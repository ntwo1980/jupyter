{
 "cells": [
  {
   "cell_type": "markdown",
   "metadata": {},
   "source": [
    "# NumPy array creation\n",
    "\n",
    "| Function            | Description                                                                                                                                                  |\n",
    "| ------------------- | ------------------------------------------------------------------------------------------------------------------------------------------------------------ |\n",
    "| `array`             | Convert input data (list, tuple, array, or other sequence type) to an ndarray either by inferring dtype or explicitly a dtype. Copies the input by default.  |\n",
    "| `asarray`           | Convert input to ndarray, but do not copy if the input is already an ndarray                                                                                 |\n",
    "| `arange`            | Like the built-in range but returns an ndarray instead of a list.                                                                                            |\n",
    "| `ones, ones_like`   | Produce an array of all 1's with the given shape and dtype. `ones_like` takes another array and produces a ones array of the same shape and dtype.           |\n",
    "| `zeros, zeros_like` | Like `ones` and `ones_like` but producing arrays of 0's instead |\n",
    "| `empty, empty_like` | Create new arrays but allocating new memory, but do not populate with any values like `ones` and `zeros`\n",
    "| `eye, identity`     | Create a square N x N identity matrix (1's on the diagonal and 0's elsewhere)\n",
    "\n",
    "## NumPy arrays via numpy.array\n"
   ]
  },
  {
   "cell_type": "code",
   "execution_count": null,
   "metadata": {
    "collapsed": true
   },
   "outputs": [],
   "source": [
    "import numpy as np"
   ]
  },
  {
   "cell_type": "code",
   "execution_count": null,
   "metadata": {
    "collapsed": false
   },
   "outputs": [],
   "source": [
    "ar1 = np.array(range(0, 4)) # 1 dimensional array\n",
    "ar2 = np.array([[0, 3, 5], [2, 7, 8]]) # 1 dimensional array\n",
    "\n",
    "ar2.shape\n",
    "ar2.ndim"
   ]
  },
  {
   "cell_type": "markdown",
   "metadata": {},
   "source": [
    "## NumPy array via numpy.arrange"
   ]
  },
  {
   "cell_type": "code",
   "execution_count": null,
   "metadata": {
    "collapsed": false
   },
   "outputs": [],
   "source": [
    "ar3 = np.arange(12)\n",
    "ar4 = np.arange(3, 10, 3)\n",
    "ar4"
   ]
  },
  {
   "cell_type": "markdown",
   "metadata": {},
   "source": [
    "## NumPy array via numpy.linspace"
   ]
  },
  {
   "cell_type": "code",
   "execution_count": null,
   "metadata": {
    "collapsed": false
   },
   "outputs": [],
   "source": [
    "ar5 = np.linspace(0, 2.0/3, 4)\n",
    "ar5"
   ]
  },
  {
   "cell_type": "markdown",
   "metadata": {},
   "source": [
    "## NumPy array via various other functions\n",
    "\n",
    "### numpy.ones"
   ]
  },
  {
   "cell_type": "code",
   "execution_count": null,
   "metadata": {
    "collapsed": false
   },
   "outputs": [],
   "source": [
    "ar7 = np.ones((2, 3, 4))\n",
    "ar7"
   ]
  },
  {
   "cell_type": "markdown",
   "metadata": {},
   "source": [
    "### numpy.zeros"
   ]
  },
  {
   "cell_type": "code",
   "execution_count": null,
   "metadata": {
    "collapsed": false
   },
   "outputs": [],
   "source": [
    "ar8 = np.zeros((4, 2))\n",
    "ar8"
   ]
  },
  {
   "cell_type": "markdown",
   "metadata": {},
   "source": [
    "### numpy.eye"
   ]
  },
  {
   "cell_type": "code",
   "execution_count": null,
   "metadata": {
    "collapsed": false
   },
   "outputs": [],
   "source": [
    "ar9 = np.eye(3)\n",
    "ar9"
   ]
  },
  {
   "cell_type": "markdown",
   "metadata": {},
   "source": [
    "### numpy.diag"
   ]
  },
  {
   "cell_type": "code",
   "execution_count": null,
   "metadata": {
    "collapsed": false
   },
   "outputs": [],
   "source": [
    "ar10 = np.diag((2, 1, 4, 6))\n",
    "ar10"
   ]
  },
  {
   "cell_type": "markdown",
   "metadata": {},
   "source": [
    "### numpy.random.rand"
   ]
  },
  {
   "cell_type": "code",
   "execution_count": null,
   "metadata": {
    "collapsed": false
   },
   "outputs": [],
   "source": [
    "np.random.seed(100)\n",
    "ar11 = np.random.rand(3)\n",
    "ar11"
   ]
  },
  {
   "cell_type": "markdown",
   "metadata": {},
   "source": [
    "### numpy.empty"
   ]
  },
  {
   "cell_type": "code",
   "execution_count": null,
   "metadata": {
    "collapsed": false
   },
   "outputs": [],
   "source": [
    "ar13 = np.empty((3, 2))\n",
    "ar13"
   ]
  },
  {
   "cell_type": "markdown",
   "metadata": {},
   "source": [
    "### numpy.tile\n",
    "\n",
    "The `np.tile` function allows one to construct an array from a smaller array by repeating it several times on the basis of a parameter."
   ]
  },
  {
   "cell_type": "code",
   "execution_count": null,
   "metadata": {
    "collapsed": false
   },
   "outputs": [],
   "source": [
    "ar14=np.tile(np.array([[1,2],[6,7]]), 3)\n",
    "ar14"
   ]
  },
  {
   "cell_type": "code",
   "execution_count": null,
   "metadata": {
    "collapsed": false
   },
   "outputs": [],
   "source": [
    "ar15=np.tile(np.array([[1,2],[6,7]]), (2,2))\n",
    "ar15"
   ]
  },
  {
   "cell_type": "markdown",
   "metadata": {},
   "source": [
    "# NumPy datatypes"
   ]
  },
  {
   "cell_type": "code",
   "execution_count": null,
   "metadata": {
    "collapsed": false
   },
   "outputs": [],
   "source": [
    "far = np.array([2, -1, 6, 3], dtype='float')\n",
    "iar = np.array([2, 4, 6, 8])\n",
    "far = np.array([2., 4, 6, 8])\n",
    "sar = np.array(['Goodbye','Welcome','Tata','Goodnight'])\n",
    "bar = np.array([True, False, True]);\n",
    "iar = far.astype(int)"
   ]
  },
  {
   "cell_type": "markdown",
   "metadata": {},
   "source": [
    "# NumPy indexing and slicing"
   ]
  },
  {
   "cell_type": "code",
   "execution_count": null,
   "metadata": {
    "collapsed": false
   },
   "outputs": [],
   "source": [
    "ar = np.arange(5)\n",
    "ar[0], ar[1], ar[-1]\n",
    "ar[::-1]  #reverse array\n",
    "\n",
    "ar = np.array([[2,3,4],[9,8,7],[11,12,13]])\n",
    "ar[2]  # get row 2\n",
    "ar[:,1] # get column 1"
   ]
  },
  {
   "cell_type": "markdown",
   "metadata": {},
   "source": [
    "## Array slicing"
   ]
  },
  {
   "cell_type": "code",
   "execution_count": null,
   "metadata": {
    "collapsed": false
   },
   "outputs": [],
   "source": [
    "ar = 2 * np.arange(6)\n",
    "ar[1:5:2]"
   ]
  },
  {
   "cell_type": "markdown",
   "metadata": {},
   "source": [
    "## Array masking"
   ]
  },
  {
   "cell_type": "code",
   "execution_count": null,
   "metadata": {
    "collapsed": false
   },
   "outputs": [],
   "source": [
    "np.random.seed(10)\n",
    "ar = np.random.randint(0, 25, 10)\n",
    "evenMask = (ar % 2 == 0)\n",
    "evenNums = ar[evenMask]\n",
    "\n",
    "ar = np.array(['Hungary','Nigeria', 'Guatemala','','Poland', '','Japan']);\n",
    "ar[ar==''] = 'USA'\n",
    "\n",
    "ar = 11 * np.arange(0, 10)\n",
    "ar[[1,3]]=50\n",
    "# ar[1, 3] is incorrect, exception will be thrown"
   ]
  },
  {
   "cell_type": "markdown",
   "metadata": {},
   "source": [
    "# Copies and views"
   ]
  },
  {
   "cell_type": "code",
   "execution_count": null,
   "metadata": {
    "collapsed": false
   },
   "outputs": [],
   "source": [
    "ar1 = np.arange(12)\n",
    "ar2 = ar1[::2]\n",
    "\n",
    "np.may_share_memory(ar1, ar2)\n",
    "\n",
    "ar3 = ar1[::2].copy()\n",
    "np.may_share_memory(ar1, ar3)"
   ]
  },
  {
   "cell_type": "markdown",
   "metadata": {},
   "source": [
    "# Operations\n",
    "\n",
    "## Basic operations"
   ]
  },
  {
   "cell_type": "code",
   "execution_count": null,
   "metadata": {
    "collapsed": false
   },
   "outputs": [],
   "source": [
    "ar1 = np.array([[1,2],[3,4]])\n",
    "ar2=np.array([[5,6],[7,8]])\n",
    "\n",
    "ar1.dot(ar2)\n",
    "\n",
    "l1 = np.array([True, False, True, False])\n",
    "l2 = np.array([False, False, True, False])\n",
    "\n",
    "np.logical_and(l1, l2)\n",
    "\n",
    "ar=np.array([np.pi, np.pi/2])\n",
    "np.sin(ar)\n",
    "\n",
    "ar=np.array([[1,2,3],[4,5,6]])\n",
    "ar.T\n",
    "np.transpose(ar)\n",
    "\n",
    "# compare arrays not element-wise, but array-wise\n",
    "ar = np.arrange(0,6)\n",
    "ar2 = np.array([0, 1, 2, 3, 4, 5])\n",
    "np.array_equal(ar, ar2)\n",
    "np.all(ar==ar2)"
   ]
  },
  {
   "cell_type": "markdown",
   "metadata": {},
   "source": [
    "## Reduction operations"
   ]
  },
  {
   "cell_type": "code",
   "execution_count": null,
   "metadata": {
    "collapsed": true
   },
   "outputs": [],
   "source": [
    "ar = np.arange(1, 5)\n",
    "ar.prod()\n",
    "\n",
    "ar=np.array([np.arange(1,6),np.arange(1,6)])\n",
    "np.prod(ar,axis=0)\n",
    "np.prod(ar,axis=1)\n",
    "\n",
    "ar.sum()\n",
    "ar.mean()\n",
    "np.median(ar)"
   ]
  },
  {
   "cell_type": "markdown",
   "metadata": {},
   "source": [
    "## Statistical operations"
   ]
  },
  {
   "cell_type": "code",
   "execution_count": null,
   "metadata": {
    "collapsed": true
   },
   "outputs": [],
   "source": [
    "np.random.seed(10)\n",
    "ar=np.random.randint(0,10, size=(4,5));\n",
    "\n",
    "ar.mean()\n",
    "ar.std()\n",
    "ar.var(axis = 0)\n",
    "ar.cumsum()"
   ]
  },
  {
   "cell_type": "markdown",
   "metadata": {},
   "source": [
    "## Logical operations"
   ]
  },
  {
   "cell_type": "markdown",
   "metadata": {},
   "source": [
    "np.random.seed(100)\n",
    "ar=np.random.randint(1,10, size=(4,4))\n",
    "\n",
    "np.any((ar % 7) == 0)\n",
    "np.all(ar < 7)"
   ]
  },
  {
   "cell_type": "markdown",
   "metadata": {},
   "source": [
    "# Broadcasting\n",
    "\n",
    "In broadcasting, NumPy combine arrays that don't have the same exact shape."
   ]
  },
  {
   "cell_type": "code",
   "execution_count": null,
   "metadata": {
    "collapsed": false
   },
   "outputs": [],
   "source": [
    "ar=np.ones([3,2])\n",
    "ar2=np.array([2,3])\n",
    "\n",
    "ar+ar2\n",
    "\n",
    "ar=np.array([[23,24,25]])\n",
    "ar.T + ar"
   ]
  },
  {
   "cell_type": "markdown",
   "metadata": {},
   "source": [
    "# Array shape manipulation\n",
    "\n",
    "## Flattening a multi-dimensional array"
   ]
  },
  {
   "cell_type": "code",
   "execution_count": null,
   "metadata": {
    "collapsed": true
   },
   "outputs": [],
   "source": [
    "ar=np.array([np.arange(1,6), np.arange(10,15)])\n",
    "\n",
    "ar.ravel()\n",
    "ar.T.ravel()"
   ]
  },
  {
   "cell_type": "markdown",
   "metadata": {},
   "source": [
    "## Reshaping"
   ]
  },
  {
   "cell_type": "code",
   "execution_count": null,
   "metadata": {
    "collapsed": true
   },
   "outputs": [],
   "source": [
    "ar = np.arange(1,16)\n",
    "ar.reshape(3,5)"
   ]
  },
  {
   "cell_type": "markdown",
   "metadata": {},
   "source": [
    "## Resizing\n",
    "\n",
    "There are two resize operators, `numpy.ndarray.resize`, which is an `ndarray` operator that resizes in place, and `numpy.resize`, which returns a new array with the specified shape."
   ]
  },
  {
   "cell_type": "code",
   "execution_count": null,
   "metadata": {
    "collapsed": true
   },
   "outputs": [],
   "source": [
    "ar=np.arange(5)\n",
    "ar.resize((8,))\n",
    "np.resize(ar,(8,))"
   ]
  },
  {
   "cell_type": "markdown",
   "metadata": {},
   "source": [
    "## Adding a dimension"
   ]
  },
  {
   "cell_type": "markdown",
   "metadata": {},
   "source": [
    "ar = np.array([14,15,16])\n",
    "ar = ar[:, np.newaxis]"
   ]
  },
  {
   "cell_type": "markdown",
   "metadata": {},
   "source": [
    "# Array sorting\n",
    "\n",
    "* Sorting y-axis"
   ]
  },
  {
   "cell_type": "markdown",
   "metadata": {
    "collapsed": true
   },
   "source": [
    "ar=np.array([[3,2],[10,-1]])\n",
    "ar.sort(axis=1)"
   ]
  },
  {
   "cell_type": "markdown",
   "metadata": {},
   "source": [
    "* Sorting x-axis"
   ]
  },
  {
   "cell_type": "code",
   "execution_count": null,
   "metadata": {
    "collapsed": true
   },
   "outputs": [],
   "source": [
    "ar.sort(axis=0)"
   ]
  },
  {
   "cell_type": "markdown",
   "metadata": {
    "collapsed": true
   },
   "source": [
    "* Sorting by in-place (`np.array.sort`) and out-of-place (`np.sort`) functions\n",
    "* Other operations that are available for array sorting include the following:\n",
    "    - `np.min()`: returns the minimum element in the array\n",
    "    - `np.max()`: returns the maximum element in the array\n",
    "    - `np.std()`: returns the standard deviation of elements in the array\n",
    "    - `np.var()`: returns the variance of elements in the array\n",
    "    - `np.argmin()`: indices of minimum\n",
    "    - `np.argmax()`: indices of maximum\n",
    "    -  np.all()`: returns element-wise and all of the elements\n",
    "    -  np.any()`: returns element-wise and or of the elements"
   ]
  }
 ],
 "metadata": {
  "kernelspec": {
   "display_name": "Python 3",
   "language": "python",
   "name": "python3"
  },
  "language_info": {
   "codemirror_mode": {
    "name": "ipython",
    "version": 3
   },
   "file_extension": ".py",
   "mimetype": "text/x-python",
   "name": "python",
   "nbconvert_exporter": "python",
   "pygments_lexer": "ipython3",
   "version": "3.6.0"
  },
  "toc": {
   "colors": {
    "hover_highlight": "#DAA520",
    "running_highlight": "#FF0000",
    "selected_highlight": "#FFD700"
   },
   "moveMenuLeft": true,
   "nav_menu": {
    "height": "512px",
    "width": "252px"
   },
   "navigate_menu": true,
   "number_sections": true,
   "sideBar": true,
   "threshold": 4,
   "toc_cell": false,
   "toc_position": {
    "height": "844px",
    "left": "0px",
    "right": "1673px",
    "top": "106px",
    "width": "247px"
   },
   "toc_section_display": "block",
   "toc_window_display": true
  }
 },
 "nbformat": 4,
 "nbformat_minor": 2
}
