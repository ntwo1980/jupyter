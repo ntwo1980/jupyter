{
 "cells": [
  {
   "cell_type": "code",
   "execution_count": null,
   "metadata": {
    "collapsed": false,
    "scrolled": false
   },
   "outputs": [],
   "source": [
    "%matplotlib inline\n",
    "\n",
    "import numpy as np\n",
    "import pandas as pd\n",
    "import datetime as dt\n",
    "\n",
    "pd.options.display.float_format='{:.2f}'.format\n",
    "\n",
    "fec = pd.read_csv('P00000001-ALL.csv')"
   ]
  },
  {
   "cell_type": "markdown",
   "metadata": {},
   "source": [
    "# Donation statistics by occupation and employer"
   ]
  },
  {
   "cell_type": "code",
   "execution_count": null,
   "metadata": {
    "collapsed": false,
    "scrolled": true
   },
   "outputs": [],
   "source": [
    "unique_cands = fec.cand_nm.unique()\n",
    "\n",
    "parties = {'Bachmann, Michelle': 'Republican',\n",
    "    'Cain, Herman': 'Republican',\n",
    "    'Gingrich, Newt': 'Republican',\n",
    "    'Huntsman, Jon': 'Republican',\n",
    "    'Johnson, Gary Earl': 'Republican',\n",
    "    'McCotter, Thaddeus G': 'Republican',\n",
    "    'Obama, Barack': 'Democrat',\n",
    "    'Paul, Ron': 'Republican',\n",
    "    'Pawlenty, Timothy': 'Republican',\n",
    "    'Perry, Rick': 'Republican',\n",
    "    \"Roemer, Charles E. 'Buddy' III\": 'Republican',\n",
    "    'Romney, Mitt': 'Republican',\n",
    "    'Santorum, Rick': 'Republican'}\n",
    "\n",
    "fec['party'] = fec.cand_nm.map(parties)\n",
    "\n",
    "fec = fec[fec.contb_receipt_amt > 0]\n",
    "fec_mrbo = fec[fec.cand_nm.isin(['Obama, Barack', 'Romney, Mitt'])]\n",
    "\n",
    "occ_mapping = {\n",
    "    'INFORMATION REQUESTED PER BEST EFFORTS' : 'NOT PROVIDED',\n",
    "    'INFORMATION REQUESTED' : 'NOT PROVIDED',\n",
    "    'INFORMATION REQUESTED (BEST EFFORTS)' : 'NOT PROVIDED',\n",
    "    'C.E.O.': 'CEO'\n",
    "    }\n",
    "f = lambda x: occ_mapping.get(x, x)\n",
    "fec.contbr_occupation = fec.contbr_occupation.map(f)\n",
    "\n",
    "emp_mapping = {\n",
    "    'INFORMATION REQUESTED PER BEST EFFORTS' : 'NOT PROVIDED',\n",
    "    'INFORMATION REQUESTED' : 'NOT PROVIDED',\n",
    "    'SELF' : 'SELF-EMPLOYED',\n",
    "    'SELF EMPLOYED' : 'SELF-EMPLOYED',\n",
    "    }\n",
    "f = lambda x: emp_mapping.get(x, x)\n",
    "fec['contbr_employer'] = fec.contbr_employer.map(f)\n",
    "\n",
    "by_occupation = fec.pivot_table('contb_receipt_amt',\n",
    "    index='contbr_occupation', columns='party', aggfunc='sum')\n",
    "\n",
    "over_2mm = by_occupation[by_occupation.sum(1) > 2000000]\n",
    "\n",
    "over_2mm.plot(kind='barh')"
   ]
  },
  {
   "cell_type": "code",
   "execution_count": null,
   "metadata": {
    "collapsed": false
   },
   "outputs": [],
   "source": [
    "def get_top_amounts(group, key, n=5):\n",
    "    totals = group.groupby(key)['contb_receipt_amt'].sum()\n",
    "# Order totals by key in descending order\n",
    "    return totals.sort_values(ascending=False)[-n:]\n",
    "\n",
    "grouped = fec_mrbo.groupby('cand_nm')\n",
    "grouped.apply(get_top_amounts, 'contbr_occupation', n=7)\n",
    "grouped.apply(get_top_amounts, 'contbr_employer', n=10)"
   ]
  },
  {
   "cell_type": "markdown",
   "metadata": {},
   "source": [
    "# Bucketing donation amounts"
   ]
  },
  {
   "cell_type": "code",
   "execution_count": 28,
   "metadata": {
    "collapsed": false
   },
   "outputs": [
    {
     "data": {
      "text/plain": [
       "<matplotlib.axes._subplots.AxesSubplot at 0x172107f0>"
      ]
     },
     "execution_count": 28,
     "metadata": {},
     "output_type": "execute_result"
    },
    {
     "data": {
      "image/png": "[encoded data removed]",
      "text/plain": [
       "<matplotlib.figure.Figure at 0x17258550>"
      ]
     },
     "metadata": {},
     "output_type": "display_data"
    }
   ],
   "source": [
    "bins = np.array([0, 1, 10, 100, 1000, 10000, 100000, 1000000, 10000000])\n",
    "labels = pd.cut(fec_mrbo.contb_receipt_amt, bins)\n",
    "\n",
    "grouped = fec_mrbo.groupby(['cand_nm', labels])\n",
    "grouped.size().unstack(0)\n",
    "bucket_sums = grouped.contb_receipt_amt.sum().unstack(0)\n",
    "normed_sums = bucket_sums.div(bucket_sums.sum(axis=1), axis=0)\n",
    "normed_sums[:-2].plot(kind='barh', stacked=True)"
   ]
  },
  {
   "cell_type": "markdown",
   "metadata": {},
   "source": [
    "# Donation statistics by state"
   ]
  },
  {
   "cell_type": "code",
   "execution_count": 34,
   "metadata": {
    "collapsed": false
   },
   "outputs": [
    {
     "data": {
      "text/plain": [
       "\"\\nfrom mpl_toolkits.basemap import Basemap, cm\\nimport numpy as np\\nfrom matplotlib import rcParams\\nfrom matplotlib.collections import LineCollection\\nimport matplotlib.pyplot as plt\\nfrom shapelib import ShapeFile\\nimport dbflib\\nobama = percent['Obama, Barack']\\nfig = plt.figure(figsize=(12, 12))\\nax = fig.add_axes([0.1,0.1,0.8,0.8])\\nlllat = 21; urlat = 53; lllon = -118; urlon = -62\\nm = Basemap(ax=ax, projection='stere',\\nlon_0=(urlon + lllon) / 2, lat_0=(urlat + lllat) / 2,\\nllcrnrlat=lllat, urcrnrlat=urlat, llcrnrlon=lllon,\\nurcrnrlon=urlon, resolution='l')\\nm.drawcoastlines()\\nm.drawcountries()\\nshp = ShapeFile('../states/statesp020')\\ndbf = dbflib.open('../states/statesp020')\\nfor npoly in range(shp.info()[0]):\\n    # Draw colored polygons on the map\\n    shpsegs = []\\n    shp_object = shp.read_object(npoly)\\n    verts = shp_object.vertices()\\n    rings = len(verts)\\n    for ring in range(rings):\\n        lons, lats = zip(*verts[ring])\\n        x, y = m(lons, lats)\\n        shpsegs.append(zip(x,y))\\n        if ring == 0:\\n            shapedict = dbf.read_record(npoly)\\n        name = shapedict['STATE']\\n    lines = LineCollection(shpsegs,antialiaseds=(1,))\\n    # state_to_code dict, e.g. 'ALASKA' -> 'AK', omitted\\n    try:\\n        per = obama[state_to_code[name.upper()]]\\n    except KeyError:\\n        continue\\n        \\n    lines.set_facecolors('k')\\n    lines.set_alpha(0.75 * per) # Shrink the percentage a bit\\n    lines.set_edgecolors('k')\\n    lines.set_linewidth(0.3)\\n    ax.add_collection(lines)\\n    \\nplt.show()\\n\""
      ]
     },
     "execution_count": 34,
     "metadata": {},
     "output_type": "execute_result"
    }
   ],
   "source": [
    "grouped = fec_mrbo.groupby(['cand_nm', 'contbr_st'])\n",
    "totals = grouped.contb_receipt_amt.sum().unstack(0).fillna(0)\n",
    "totals = totals[totals.sum(1) > 100000]\n",
    "percent = totals.div(totals.sum(1), axis=0)\n",
    "\n",
    "'''\n",
    "from mpl_toolkits.basemap import Basemap, cm\n",
    "import numpy as np\n",
    "from matplotlib import rcParams\n",
    "from matplotlib.collections import LineCollection\n",
    "import matplotlib.pyplot as plt\n",
    "from shapelib import ShapeFile\n",
    "import dbflib\n",
    "obama = percent['Obama, Barack']\n",
    "fig = plt.figure(figsize=(12, 12))\n",
    "ax = fig.add_axes([0.1,0.1,0.8,0.8])\n",
    "lllat = 21; urlat = 53; lllon = -118; urlon = -62\n",
    "m = Basemap(ax=ax, projection='stere',\n",
    "lon_0=(urlon + lllon) / 2, lat_0=(urlat + lllat) / 2,\n",
    "llcrnrlat=lllat, urcrnrlat=urlat, llcrnrlon=lllon,\n",
    "urcrnrlon=urlon, resolution='l')\n",
    "m.drawcoastlines()\n",
    "m.drawcountries()\n",
    "shp = ShapeFile('../states/statesp020')\n",
    "dbf = dbflib.open('../states/statesp020')\n",
    "for npoly in range(shp.info()[0]):\n",
    "    # Draw colored polygons on the map\n",
    "    shpsegs = []\n",
    "    shp_object = shp.read_object(npoly)\n",
    "    verts = shp_object.vertices()\n",
    "    rings = len(verts)\n",
    "    for ring in range(rings):\n",
    "        lons, lats = zip(*verts[ring])\n",
    "        x, y = m(lons, lats)\n",
    "        shpsegs.append(zip(x,y))\n",
    "        if ring == 0:\n",
    "            shapedict = dbf.read_record(npoly)\n",
    "        name = shapedict['STATE']\n",
    "    lines = LineCollection(shpsegs,antialiaseds=(1,))\n",
    "    # state_to_code dict, e.g. 'ALASKA' -> 'AK', omitted\n",
    "    try:\n",
    "        per = obama[state_to_code[name.upper()]]\n",
    "    except KeyError:\n",
    "        continue\n",
    "        \n",
    "    lines.set_facecolors('k')\n",
    "    lines.set_alpha(0.75 * per) # Shrink the percentage a bit\n",
    "    lines.set_edgecolors('k')\n",
    "    lines.set_linewidth(0.3)\n",
    "    ax.add_collection(lines)\n",
    "    \n",
    "plt.show()\n",
    "'''"
   ]
  }
 ],
 "metadata": {
  "kernelspec": {
   "display_name": "Python 3",
   "language": "python",
   "name": "python3"
  },
  "language_info": {
   "codemirror_mode": {
    "name": "ipython",
    "version": 3
   },
   "file_extension": ".py",
   "mimetype": "text/x-python",
   "name": "python",
   "nbconvert_exporter": "python",
   "pygments_lexer": "ipython3",
   "version": "3.6.0"
  },
  "toc": {
   "colors": {
    "hover_highlight": "#DAA520",
    "running_highlight": "#FF0000",
    "selected_highlight": "#FFD700"
   },
   "moveMenuLeft": true,
   "nav_menu": {
    "height": "30px",
    "width": "252px"
   },
   "navigate_menu": true,
   "number_sections": true,
   "sideBar": true,
   "threshold": 4,
   "toc_cell": false,
   "toc_section_display": "block",
   "toc_window_display": true
  }
 },
 "nbformat": 4,
 "nbformat_minor": 2
}
