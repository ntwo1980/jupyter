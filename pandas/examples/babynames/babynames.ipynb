{
 "cells": [
  {
   "cell_type": "markdown",
   "metadata": {
    "toc": "true"
   },
   "source": [
    "# Table of Contents\n",
    " <p><div class=\"lev1 toc-item\"><a href=\"#Aggregate-data-at-year-and-sex-level\" data-toc-modified-id=\"Aggregate-data-at-year-and-sex-level-1\"><span class=\"toc-item-num\">1&nbsp;&nbsp;</span>Aggregate data at year and sex level</a></div><div class=\"lev1 toc-item\"><a href=\"#Add-a-prop-column\" data-toc-modified-id=\"Add-a-prop-column-2\"><span class=\"toc-item-num\">2&nbsp;&nbsp;</span>Add a prop column</a></div><div class=\"lev1 toc-item\"><a href=\"#Get-top-1000-names-for-each-sex/year-combination\" data-toc-modified-id=\"Get-top-1000-names-for-each-sex/year-combination-3\"><span class=\"toc-item-num\">3&nbsp;&nbsp;</span>Get top 1000 names for each sex/year combination</a></div><div class=\"lev1 toc-item\"><a href=\"#Analyzing-naming-trends\" data-toc-modified-id=\"Analyzing-naming-trends-4\"><span class=\"toc-item-num\">4&nbsp;&nbsp;</span>Analyzing naming trends</a></div><div class=\"lev2 toc-item\"><a href=\"#Measuring-the-increase-in-naming-diversity\" data-toc-modified-id=\"Measuring-the-increase-in-naming-diversity-41\"><span class=\"toc-item-num\">4.1&nbsp;&nbsp;</span>Measuring the increase in naming diversity</a></div><div class=\"lev2 toc-item\"><a href=\"#The-&quot;Last-letter&quot;-revolution\" data-toc-modified-id=\"The-&quot;Last-letter&quot;-revolution-42\"><span class=\"toc-item-num\">4.2&nbsp;&nbsp;</span>The \"Last letter\" revolution</a></div><div class=\"lev2 toc-item\"><a href=\"#Boy-names-that-became-girl-names-(and-vice-versa)\" data-toc-modified-id=\"Boy-names-that-became-girl-names-(and-vice-versa)-43\"><span class=\"toc-item-num\">4.3&nbsp;&nbsp;</span>Boy names that became girl names (and vice versa)</a></div>"
   ]
  },
  {
   "cell_type": "code",
   "execution_count": null,
   "metadata": {
    "collapsed": true
   },
   "outputs": [],
   "source": [
    "%matplotlib inline\n",
    "\n",
    "import numpy as np\n",
    "import pandas as pd\n",
    "import matplotlib.pyplot as plt\n",
    "\n",
    "years = range(2000, 2011)\n",
    "\n",
    "pieces = []\n",
    "columns = ['name', 'sex', 'births']\n",
    "\n",
    "for year in years:\n",
    "    path = 'yob{}.txt'.format(year)\n",
    "    df = pd.read_csv(path, names=columns)\n",
    "    df['year'] = year\n",
    "    pieces.append(df)\n",
    "    # Concatenate everything into a single DataFrame\n",
    "    names = pd.concat(pieces, ignore_index=True)"
   ]
  },
  {
   "cell_type": "markdown",
   "metadata": {},
   "source": [
    "# Aggregate data at year and sex level"
   ]
  },
  {
   "cell_type": "code",
   "execution_count": null,
   "metadata": {
    "collapsed": false
   },
   "outputs": [],
   "source": [
    "total_births = names.pivot_table('births', index='year', columns=['sex'], aggfunc=sum)\n",
    "total_births.plot(title='Total births by sex and year')"
   ]
  },
  {
   "cell_type": "markdown",
   "metadata": {},
   "source": [
    "# Add a prop column"
   ]
  },
  {
   "cell_type": "code",
   "execution_count": null,
   "metadata": {
    "collapsed": false
   },
   "outputs": [],
   "source": [
    "def add_prop(group):\n",
    "    births = group.births.astype(float)\n",
    "    \n",
    "    group['prop'] = births / births.sum()\n",
    "    return group\n",
    "\n",
    "names = names.groupby(['year', 'sex']).apply(add_prop)\n",
    "\n",
    "# sanity check to verify the prop column sums to 1 within all the groups\n",
    "np.allclose(names.groupby(['year', 'sex']).prop.sum(), 1)\n"
   ]
  },
  {
   "cell_type": "markdown",
   "metadata": {},
   "source": [
    "# Get top 1000 names for each sex/year combination"
   ]
  },
  {
   "cell_type": "code",
   "execution_count": null,
   "metadata": {
    "collapsed": false
   },
   "outputs": [],
   "source": [
    "def get_top1000(group):\n",
    "    return group.sort_values(by='births', ascending=False)[:1000]\n",
    "\n",
    "grouped = names.groupby(['year', 'sex'])\n",
    "top1000 = grouped.apply(get_top1000)"
   ]
  },
  {
   "cell_type": "markdown",
   "metadata": {},
   "source": [
    "# Analyzing naming trends"
   ]
  },
  {
   "cell_type": "code",
   "execution_count": null,
   "metadata": {
    "collapsed": false
   },
   "outputs": [],
   "source": [
    "boys = top1000[top1000.sex == 'M']\n",
    "girls = top1000[top1000.sex == 'F']\n",
    "\n",
    "total_births = top1000.pivot_table('births', index='year', columns='name', aggfunc=sum)\n",
    "\n",
    "subset = total_births[['John', 'Harry', 'Mary', 'Marilyn']]\n",
    "subset.plot(subplots=True, figsize=(12, 10), grid=False, title='Number of births per year')"
   ]
  },
  {
   "cell_type": "markdown",
   "metadata": {},
   "source": [
    "## Measuring the increase in naming diversity"
   ]
  },
  {
   "cell_type": "code",
   "execution_count": null,
   "metadata": {
    "collapsed": false
   },
   "outputs": [],
   "source": [
    "table = top1000.pivot_table('prop', index='year', columns='sex', aggfunc=sum)\n",
    "\n",
    "table.plot(title='Sum of table1000.prop by year and sex', \n",
    "           yticks=np.linspace(0, 1.2, 13), xticks=range(2000, 2010, 1))"
   ]
  },
  {
   "cell_type": "code",
   "execution_count": null,
   "metadata": {
    "collapsed": false
   },
   "outputs": [],
   "source": [
    "df_2010 = boys[boys.year == 2010]\n",
    "\n",
    "prop_cumsum = df_2010.sort_values(by='prop', ascending=False)['prop'].cumsum()\n",
    "prop_cumsum.searchsorted(0.5)\n",
    "\n",
    "df_2000 = boys[boys.year == 2000]\n",
    "\n",
    "prop_cumsum = df_2000.sort_values(by='prop', ascending=False)['prop'].cumsum()\n",
    "prop_cumsum.searchsorted(0.5)\n",
    "\n",
    "def get_quantile_count(group, q=0.5):\n",
    "    group = group.sort_values(by='prop', ascending=False)\n",
    "    return group['prop'].cumsum().searchsorted(q)[0] + 1\n",
    "\n",
    "diversity = top1000.groupby(['year', 'sex']).apply(get_quantile_count)\n",
    "diversity = diversity.unstack('sex')\n",
    "\n",
    "diversity.plot(title=\"Number of popular names in top 50%\")"
   ]
  },
  {
   "cell_type": "markdown",
   "metadata": {},
   "source": [
    "## The \"Last letter\" revolution"
   ]
  },
  {
   "cell_type": "code",
   "execution_count": null,
   "metadata": {
    "collapsed": false
   },
   "outputs": [],
   "source": [
    "get_last_letter = lambda x: x[-1]\n",
    "last_letters = names['name'].map(get_last_letter)\n",
    "last_letters.name = 'last_letter'\n",
    "\n",
    "table = names.pivot_table('births', index=last_letters, columns=['sex', 'year'], aggfunc=sum)\n",
    "subtable = table.reindex(columns=[2000, 2005, 2010], level='year')\n",
    "\n",
    "letter_prop = subtable / subtable.sum().astype(float)\n",
    "\n",
    "fig, axes = plt.subplots(2, 1, figsize=(10, 8))\n",
    "letter_prop['M'].plot(kind='bar', rot=0, ax=axes[0], title='Male')\n",
    "letter_prop['F'].plot(kind='bar', rot=0, ax=axes[1], title='Female', legend=False)"
   ]
  },
  {
   "cell_type": "code",
   "execution_count": null,
   "metadata": {
    "collapsed": false
   },
   "outputs": [],
   "source": [
    "letter_prop = table / table.sum().astype(float)\n",
    "\n",
    "dny_ts = letter_prop.ix[['d', 'n', 'y'], 'M'].T\n",
    "\n",
    "dny_ts.plot()"
   ]
  },
  {
   "cell_type": "markdown",
   "metadata": {},
   "source": [
    "## Boy names that became girl names (and vice versa)"
   ]
  },
  {
   "cell_type": "code",
   "execution_count": null,
   "metadata": {
    "collapsed": false
   },
   "outputs": [],
   "source": [
    "all_names = top1000.name.unique()\n",
    "\n",
    "mask = np.array(['ama' in x.lower() for x in all_names])\n",
    "lesley_like = all_names[mask]\n",
    "filtered = top1000[top1000.name.isin(lesley_like)]\n",
    "filtered.groupby('name').births.sum()\n",
    "\n",
    "table = filtered.pivot_table('births', index='year', columns='sex', aggfunc='sum')\n",
    "table = table.div(table.sum(1), axis=0)\n",
    "\n",
    "table.plot(style={'M': 'k-', 'F': 'k--'})"
   ]
  }
 ],
 "metadata": {
  "kernelspec": {
   "display_name": "Python 3",
   "language": "python",
   "name": "python3"
  },
  "language_info": {
   "codemirror_mode": {
    "name": "ipython",
    "version": 3
   },
   "file_extension": ".py",
   "mimetype": "text/x-python",
   "name": "python",
   "nbconvert_exporter": "python",
   "pygments_lexer": "ipython3",
   "version": "3.6.0"
  },
  "toc": {
   "colors": {
    "hover_highlight": "#DAA520",
    "running_highlight": "#FF0000",
    "selected_highlight": "#FFD700"
   },
   "moveMenuLeft": true,
   "nav_menu": {
    "height": "12px",
    "width": "252px"
   },
   "navigate_menu": true,
   "number_sections": true,
   "sideBar": false,
   "threshold": 4,
   "toc_cell": true,
   "toc_position": {
    "height": "397px",
    "left": "1px",
    "right": "20px",
    "top": "130px",
    "width": "212px"
   },
   "toc_section_display": "block",
   "toc_window_display": false
  }
 },
 "nbformat": 4,
 "nbformat_minor": 2
}
