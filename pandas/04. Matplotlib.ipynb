{
 "cells": [
  {
   "cell_type": "code",
   "execution_count": 2,
   "metadata": {
    "collapsed": true
   },
   "outputs": [],
   "source": [
    "import numpy as np\n",
    "import pandas as pd\n",
    "import math as m\n",
    "import matplotlib.pyplot as plt\n",
    "import datetime as dt\n",
    "\n",
    "pd.options.display.float_format='{:.2f}'.format\n",
    "\n",
    "df = pd.read_csv('../data/000015', index_col= 'Date', names=['Date', 'Open', 'Close', 'High', 'Low', 'Volume', 'Money', 'PE', 'PB'], parse_dates=True, header=None)\n",
    "df['Return'] = df['Close'].pct_change() * 100\n",
    "df['Year'] = [i.year for i in df.index]\n",
    "df['Month'] = [i.month for i in df.index]\n",
    "df['Day'] = [i.day for i in df.index]"
   ]
  },
  {
   "cell_type": "markdown",
   "metadata": {
    "collapsed": true
   },
   "source": [
    "# Basic"
   ]
  },
  {
   "cell_type": "markdown",
   "metadata": {},
   "source": [
    "## Multilne plots"
   ]
  },
  {
   "cell_type": "code",
   "execution_count": null,
   "metadata": {
    "collapsed": false
   },
   "outputs": [],
   "source": [
    "x = range(1, 5)\n",
    "\n",
    "plt.plot(x, [xi * 1.5 for xi in x])\n",
    "plt.plot(x, [xi * 3 for xi in x])\n",
    "plt.plot(x, [xi / 3 for xi in x])\n",
    "\n",
    "plt.show()"
   ]
  },
  {
   "cell_type": "code",
   "execution_count": null,
   "metadata": {
    "collapsed": false
   },
   "outputs": [],
   "source": [
    "x = np.arange(1, 5)\n",
    "\n",
    "plt.plot(x, x * 1.5, \n",
    "         x, x * 3, \n",
    "         x, x / 3)\n",
    "\n",
    "plt.show()"
   ]
  },
  {
   "cell_type": "markdown",
   "metadata": {},
   "source": [
    "## Grid, axes and lables"
   ]
  },
  {
   "cell_type": "markdown",
   "metadata": {},
   "source": [
    "### Adding a grid"
   ]
  },
  {
   "cell_type": "code",
   "execution_count": null,
   "metadata": {
    "collapsed": false
   },
   "outputs": [],
   "source": [
    "x = np.arange(1, 5)\n",
    "\n",
    "plt.plot(x, x * 1.5, \n",
    "         x, x * 3, \n",
    "         x, x / 3)\n",
    "\n",
    "plt.grid(True)\n",
    "plt.show()"
   ]
  },
  {
   "cell_type": "markdown",
   "metadata": {},
   "source": [
    "### Handling axes"
   ]
  },
  {
   "cell_type": "code",
   "execution_count": null,
   "metadata": {
    "collapsed": false
   },
   "outputs": [],
   "source": [
    "x = np.arange(1, 5)\n",
    "\n",
    "plt.plot(x, x * 1.5, \n",
    "         x, x * 3, \n",
    "         x, x / 3)\n",
    "\n",
    "plt.axis([0, 5, -1, 13])  # set new axes limits\n",
    "plt.axis(xmin=0, xman=5, ymin=-1, ymax=13)\n",
    "plt.show()\n",
    "\n",
    "# get current X and Y limits\n",
    "plt.xlim()\n",
    "plt.ylim()"
   ]
  },
  {
   "cell_type": "markdown",
   "metadata": {},
   "source": [
    "### Adding labels"
   ]
  },
  {
   "cell_type": "code",
   "execution_count": null,
   "metadata": {
    "collapsed": false
   },
   "outputs": [],
   "source": [
    "x = np.arange(1, 5)\n",
    "\n",
    "plt.plot(x, x * 1.5, \n",
    "         x, x * 3, \n",
    "         x, x / 3)\n",
    "\n",
    "plt.xlabel('This is the X axis')\n",
    "plt.ylabel('This is the Y axis')\n",
    "\n",
    "plt.show()"
   ]
  },
  {
   "cell_type": "markdown",
   "metadata": {},
   "source": [
    "## Title and legends"
   ]
  },
  {
   "cell_type": "markdown",
   "metadata": {},
   "source": [
    "### Adding a title"
   ]
  },
  {
   "cell_type": "code",
   "execution_count": null,
   "metadata": {
    "collapsed": false
   },
   "outputs": [],
   "source": [
    "x = np.arange(1, 5)\n",
    "\n",
    "plt.plot(x, x * 1.5, \n",
    "         x, x * 3, \n",
    "         x, x / 3)\n",
    "\n",
    "plt.title('Simple plot')\n",
    "\n",
    "plt.show()"
   ]
  },
  {
   "cell_type": "markdown",
   "metadata": {},
   "source": [
    "### Adding a legend"
   ]
  },
  {
   "cell_type": "code",
   "execution_count": null,
   "metadata": {
    "collapsed": false
   },
   "outputs": [],
   "source": [
    "x = np.arange(1, 5)\n",
    "\n",
    "plt.plot(x, x * 1.5, \n",
    "         x, x * 3, \n",
    "         x, x / 3)\n",
    "\n",
    "plt.legend(['Normal', 'Fast', 'Slow'], loc='upper right')\n",
    "\n",
    "plt.show()"
   ]
  },
  {
   "cell_type": "markdown",
   "metadata": {},
   "source": [
    "# Styles and Types"
   ]
  },
  {
   "cell_type": "markdown",
   "metadata": {},
   "source": [
    "## Markers and line styles\n",
    "\n",
    "`plot()` supports an optional third argument that contains a format string for each pair of X, Y arguments in the form of:\n",
    "\n",
    "```python\n",
    "plt.plot(X, Y, '<format>', ...)\n",
    "```"
   ]
  },
  {
   "cell_type": "markdown",
   "metadata": {},
   "source": [
    "### Colors\n",
    "\n",
    "| Color abbreviation  | Color Name |\n",
    "| ------------------- | ---------- |\n",
    "| b                   | blue       |\n",
    "| c                   | cyan       |\n",
    "| g                   | green      |\n",
    "| k                   | black      |\n",
    "| m                   | magenta    |\n",
    "| r                   | red        |\n",
    "| w                   | white      |\n",
    "| y                   | yellow     |"
   ]
  },
  {
   "cell_type": "code",
   "execution_count": null,
   "metadata": {
    "collapsed": false
   },
   "outputs": [],
   "source": [
    "y = np.arange(1, 3)\n",
    "\n",
    "plt.plot(y, 'y')\n",
    "plt.plot(y + 1, 'm')\n",
    "plt.plot(y + 2, 'c')\n",
    "plt.show()"
   ]
  },
  {
   "cell_type": "code",
   "execution_count": null,
   "metadata": {
    "collapsed": false
   },
   "outputs": [],
   "source": [
    "y = np.arange(1, 3)\n",
    "\n",
    "plt.plot(y, 'y',  y+ 1, 'm', y + 2, 'c')\n",
    "plt.show()"
   ]
  },
  {
   "cell_type": "markdown",
   "metadata": {},
   "source": [
    "### Line styles\n",
    "\n",
    "| Style abbreviation  | Style         |\n",
    "| ------------------- | ----------    |\n",
    "| -                   | solid line    |\n",
    "| --                  | dashedline    |\n",
    "| -.                  | dash-dot line |\n",
    "| :                   | dotted line   |"
   ]
  },
  {
   "cell_type": "code",
   "execution_count": null,
   "metadata": {
    "collapsed": false
   },
   "outputs": [],
   "source": [
    "y = np.arange(1, 3)\n",
    "\n",
    "plt.plot(y, '--',  y+ 1, '-.', y + 2, ':')\n",
    "plt.show()"
   ]
  },
  {
   "cell_type": "markdown",
   "metadata": {},
   "source": [
    "### Marker styles\n",
    "\n",
    "| Markder abbreviation | Marker Style                          |\n",
    "| -------------------  | ----------                            |\n",
    "| .                    | point marker                          |\n",
    "| ,                    | pixel marker                          |\n",
    "| o                    | circle marker                         |\n",
    "| v                    | triangle down                         |\n",
    "| ^                    | Triangle up marker                    |\n",
    "| <                    | Triangle left marker                  |\n",
    "| >                    | Triangle right marker                 |\n",
    "| 1                    | Tripod down marker                    |\n",
    "| 2                    | Tripod up marker                      |\n",
    "| 3                    | Tripod left marker                    |\n",
    "| 4                    | Tripod right marker                   |\n",
    "| s                    | Square marker                         |\n",
    "| p                    | Pentagon marker                       |\n",
    "| *                    | Star marker                           |\n",
    "| h                    | Hexagon marker                        |\n",
    "| H                    | Rotated hexagon marker                |\n",
    "| +                    | Plus marker                           |\n",
    "| x                    | Cross (x) marker                      |\n",
    "| D                    | Diamond marker                        |\n",
    "| d                    | Thin diamond marker                   |\n",
    "| &#124;               | Vertical line (vline symbol) marker   |\n",
    "| _                    | Horizontal line (hline symbol) marker |"
   ]
  },
  {
   "cell_type": "code",
   "execution_count": null,
   "metadata": {
    "collapsed": false
   },
   "outputs": [],
   "source": [
    "y = np.arange(1, 3, 0.2)\n",
    "\n",
    "plt.plot(y, 'x',  y+ 1, 'o', y + 2, 's')\n",
    "plt.show()"
   ]
  },
  {
   "cell_type": "code",
   "execution_count": null,
   "metadata": {
    "collapsed": false
   },
   "outputs": [],
   "source": [
    "y = np.arange(1, 3, 0.2)\n",
    "\n",
    "plt.plot(y, 'cx--',  y+ 1, 'mo:', y + 2, 'kp-.')\n",
    "plt.show()"
   ]
  },
  {
   "cell_type": "markdown",
   "metadata": {},
   "source": [
    "### Finer control with keyword arguments\n",
    "\n",
    "| Keyword argument | Description                                                      |\n",
    "| ---------------- | ---------------------------------------------------------------- |\n",
    "| coloror c        | Sets the color of the line; accepts any Matplotlib color format. |\n",
    "| linestyle        | Sets the line style; accepts the line styles seen previously.    |\n",
    "| linewidth        | Sets the line width; accepts a float value in points.            |\n",
    "| marker           | Sets the line marker style.                                      |\n",
    "| markeredgecolor  | Sets the marker edge color; accepts any Matplotlib color format. |\n",
    "| markeredgewidth  | Sets the marker edge width; accepts float value in points.       |\n",
    "| markerfacecolor  | Sets the marker face color; accepts any Matplotlib color format. |\n",
    "| markersize       | Sets the marker size in points; accepts float values.            |"
   ]
  },
  {
   "cell_type": "code",
   "execution_count": null,
   "metadata": {
    "collapsed": false
   },
   "outputs": [],
   "source": [
    "y = np.arange(1, 3, 0.3)\n",
    "\n",
    "plt.plot(y, color='blue', linestyle='dashdot', linewidth=4, \n",
    "marker='o', markerfacecolor='red', markeredgecolor='black', \n",
    "markeredgewidth=3, markersize=12)\n",
    "\n",
    "plt.show()"
   ]
  },
  {
   "cell_type": "markdown",
   "metadata": {},
   "source": [
    "The arguments are applied to lines if plot multiple lines.\n",
    "\n",
    "```python\n",
    "plt.plot(x1, y1, x2, y2, color='green')\n",
    "```"
   ]
  },
  {
   "cell_type": "markdown",
   "metadata": {
    "collapsed": true
   },
   "source": [
    "## Handling X and Y ticks\n",
    "\n",
    "Executing with no arguments, the tick function returns the current ticks' locations and the labels corresponding to each of them:\n",
    "\n",
    "```python\n",
    "locs, labels = plt.xticks()\n",
    "```"
   ]
  },
  {
   "cell_type": "code",
   "execution_count": null,
   "metadata": {
    "collapsed": false
   },
   "outputs": [],
   "source": [
    "x = [5, 3, 7, 2, 4, 1] \n",
    "plt.plot(x);\n",
    "plt.xticks(range(len(x)), ['a', 'b', 'c', 'd', 'e', 'f']); \n",
    "plt.yticks(range(1, 8, 2)); \n",
    "plt.show()"
   ]
  },
  {
   "cell_type": "markdown",
   "metadata": {},
   "source": [
    "## Plot types"
   ]
  },
  {
   "cell_type": "markdown",
   "metadata": {},
   "source": [
    "### Histogram charts"
   ]
  },
  {
   "cell_type": "code",
   "execution_count": null,
   "metadata": {
    "collapsed": false
   },
   "outputs": [],
   "source": [
    "df_monthly = pd.DataFrame(df['Close'].asfreq('M', method='ffill'))\n",
    "\n",
    "monthly_return = df_monthly.pct_change().ix[1:, 0] * 100\n",
    "\n",
    "plt.hist(monthly_return, 30)\n",
    "plt.xticks(range(m.floor(min(monthly_return)), m.ceil(max(monthly_return)), 4)); \n",
    "plt.show()"
   ]
  },
  {
   "cell_type": "markdown",
   "metadata": {},
   "source": [
    "### Error bar charts"
   ]
  },
  {
   "cell_type": "code",
   "execution_count": null,
   "metadata": {
    "collapsed": false
   },
   "outputs": [],
   "source": [
    "x = np.arange(0, 4, 0.2) \n",
    "y = np.exp(-x) \n",
    "e1 = 0.1 * np.abs(np.random.randn(len(y)))\n",
    "e2 = 0.1 * np.abs(np.random.randn(len(y)))\n",
    "plt.errorbar(x, y, yerr=e1, xerr=e2, fmt='.-', capsize=0)\n",
    "plt.show()\n",
    "\n",
    "plt.errorbar(x, y, yerr=[e1, e2], fmt='.-')\n",
    "plt.show()"
   ]
  },
  {
   "cell_type": "markdown",
   "metadata": {},
   "source": [
    "### Bar charts"
   ]
  },
  {
   "cell_type": "code",
   "execution_count": null,
   "metadata": {
    "collapsed": false
   },
   "outputs": [],
   "source": [
    "dict = {'A': 40, 'B': 70, 'C': 30, 'D': 85} \n",
    "for i, key in enumerate(dict): plt.bar(i, dict[key])\n",
    "plt.xticks(np.arange(len(dict))+0.4, dict.keys())\n",
    "plt.yticks(list(dict.values()))\n",
    "plt.show()"
   ]
  },
  {
   "cell_type": "code",
   "execution_count": null,
   "metadata": {
    "collapsed": false
   },
   "outputs": [],
   "source": [
    "data1 = 10*np.random.rand(5) \n",
    "data2 = 10*np.random.rand(5) \n",
    "data3 = 10*np.random.rand(5) \n",
    "e2 = 0.5 * np.abs(np.random.randn(len(data2))) \n",
    "locs = np.arange(1, len(data1)+1) \n",
    "width = 0.27 \n",
    "plt.bar(locs, data1, width=width);\n",
    "plt.bar(locs+width, data2, yerr=e2, width=width, color='red');\n",
    "plt.bar(locs+2*width, data3, width=width, color='green') ;\n",
    "plt.xticks(locs + width*1.5, locs);\n",
    "plt.show()\n"
   ]
  },
  {
   "cell_type": "markdown",
   "metadata": {},
   "source": [
    "### Pie charts"
   ]
  },
  {
   "cell_type": "code",
   "execution_count": null,
   "metadata": {
    "collapsed": false
   },
   "outputs": [],
   "source": [
    "plt.figure(figsize=(3,3));\n",
    "x = [4, 9, 21, 55, 30, 18] \n",
    "labels = ['Swiss', 'Austria', 'Spain', 'Italy', 'France', 'Benelux'] \n",
    "explode = [0.2, 0.1, 0, 0, 0.1, 0] \n",
    "plt.pie(x, labels=labels, explode=explode, autopct='%1.1f%%'); \n",
    "plt.show()"
   ]
  },
  {
   "cell_type": "markdown",
   "metadata": {},
   "source": [
    "### Scatter plots"
   ]
  },
  {
   "cell_type": "code",
   "execution_count": null,
   "metadata": {
    "collapsed": false
   },
   "outputs": [],
   "source": [
    "x = np.random.randn(1000) \n",
    "y = np.random.randn(1000) \n",
    "size = 50*np.random.randn(1000) \n",
    "colors = np.random.rand(1000) \n",
    "plt.scatter(x, y, s=size, c=colors);\n",
    "plt.show()"
   ]
  },
  {
   "cell_type": "markdown",
   "metadata": {},
   "source": [
    "## Polar charts"
   ]
  },
  {
   "cell_type": "code",
   "execution_count": null,
   "metadata": {
    "collapsed": false
   },
   "outputs": [],
   "source": [
    "theta = np.arange(0., 2., 1./180.)*np.pi \n",
    "plt.polar(3*theta, theta/5); \n",
    "plt.polar(theta, np.cos(4*theta)); \n",
    "plt.polar(theta, [1.4]*len(theta)); \n",
    "plt.show()"
   ]
  },
  {
   "cell_type": "markdown",
   "metadata": {},
   "source": [
    "### Control radial and angular grids"
   ]
  },
  {
   "cell_type": "code",
   "execution_count": null,
   "metadata": {
    "collapsed": false
   },
   "outputs": [],
   "source": [
    "theta = np.arange(0., 2., 1./180.)*np.pi \n",
    "r = np.abs(np.sin(5*theta) - 2.*np.cos(theta)) \n",
    "plt.polar(theta, r);\n",
    "plt.thetagrids(range(45, 360, 90)); \n",
    "plt.rgrids(np.arange(0.2, 3.1, .7), angle=0);\n",
    "plt.show()"
   ]
  },
  {
   "cell_type": "markdown",
   "metadata": {},
   "source": [
    "## Text inside figure, annotations and arrows"
   ]
  },
  {
   "cell_type": "markdown",
   "metadata": {},
   "source": [
    "### Text inside figure"
   ]
  },
  {
   "cell_type": "code",
   "execution_count": null,
   "metadata": {
    "collapsed": false
   },
   "outputs": [],
   "source": [
    "df_year = df['Close'][-240:]\n",
    "\n",
    "plt.plot(df_year)\n",
    "plt.text(df.index[-1], df['Close'][-1], df['Close'][-1])\n",
    "\n",
    "plt.show()"
   ]
  },
  {
   "cell_type": "markdown",
   "metadata": {},
   "source": [
    "### Annotations"
   ]
  },
  {
   "cell_type": "code",
   "execution_count": null,
   "metadata": {
    "collapsed": false
   },
   "outputs": [],
   "source": [
    "df_year = df['Close'][-240:]\n",
    "\n",
    "plt.plot(df_year)\n",
    "highest_date = df_year.idxmax() \n",
    "highest_close = df_year[highest_date]\n",
    "\n",
    "plt.annotate('highest close', xy=(highest_date, highest_close),\n",
    "             xytext=(highest_date + pd.DateOffset(days=-150), highest_close*1.01), \n",
    "             arrowprops=dict(facecolor='black', shrink=0.05))\n",
    "\n",
    "plt.show()"
   ]
  },
  {
   "cell_type": "markdown",
   "metadata": {},
   "source": [
    "### Arrows"
   ]
  },
  {
   "cell_type": "code",
   "execution_count": null,
   "metadata": {
    "collapsed": false
   },
   "outputs": [],
   "source": [
    "plt.axis([0, 10, 0, 20])\n",
    "arrstyles = ['-', '->', '-[', '<-', '<->', 'fancy', 'simple', 'wedge']\n",
    "for i, style in enumerate(arrstyles):\n",
    "    plt.annotate(style, xytext=(1, 2+2*i), xy=(4, 1+2*i),arrowprops=dict(arrowstyle=style))\n",
    "    connstyles=[\"arc\", \"arc,angleA=10,armA=30,rad=15\", \"arc3,rad=.2\", \"arc3,rad=-.2\", \"angle\", \"angle3\"]\n",
    "    for i, style in enumerate(connstyles): \n",
    "        plt.annotate(\"\", xytext=(6, 2+2*i), xy=(8, 1+2*i), arrowprops=dict(arrowstyle='->', connectionstyle=style))\n",
    "\n",
    "plt.show()"
   ]
  },
  {
   "cell_type": "markdown",
   "metadata": {},
   "source": [
    "# Subplots"
   ]
  },
  {
   "cell_type": "code",
   "execution_count": 7,
   "metadata": {
    "collapsed": false
   },
   "outputs": [
    {
     "data": {
      "image/png": "[encoded data removed]",
      "text/plain": [
       "<matplotlib.figure.Figure at 0xa7b56d8>"
      ]
     },
     "metadata": {},
     "output_type": "display_data"
    }
   ],
   "source": [
    "df1 = pd.read_csv('../data/000300', index_col= 'Date', names=['Date', 'Open', 'Close', 'High', 'Low', 'Volume', 'Money', 'PE', 'PB'], parse_dates=True, header=None)\n",
    "\n",
    "fig = plt.figure()\n",
    "ax1 = fig.add_subplot(2, 1, 1)\n",
    "ax1.plot(df['Close'][-240:])\n",
    "ax2 = fig.add_subplot(2, 1, 2)\n",
    "ax2.plot(df1['Close'][-240:])\n",
    "\n",
    "plt.subplots_adjust(wspace=0, hspace=0)\n",
    "\n",
    "plt.show()"
   ]
  },
  {
   "cell_type": "markdown",
   "metadata": {},
   "source": [
    "## Multiple figures"
   ]
  },
  {
   "cell_type": "code",
   "execution_count": 5,
   "metadata": {
    "collapsed": false
   },
   "outputs": [
    {
     "data": {
      "image/png": "[encoded data removed]",
      "text/plain": [
       "<matplotlib.figure.Figure at 0xa63d4a8>"
      ]
     },
     "metadata": {},
     "output_type": "display_data"
    },
    {
     "data": {
      "image/png": "[encoded data removed]",
      "text/plain": [
       "<matplotlib.figure.Figure at 0xb7fac88>"
      ]
     },
     "metadata": {},
     "output_type": "display_data"
    }
   ],
   "source": [
    "df1 = pd.read_csv('../data/000300', index_col= 'Date', names=['Date', 'Open', 'Close', 'High', 'Low', 'Volume', 'Money', 'PE', 'PB'], parse_dates=True, header=None)\n",
    "\n",
    "fig1 = plt.figure()\n",
    "ax1 = fig1.add_subplot(1, 1, 1)\n",
    "ax1.plot(df['Close'][-240:])\n",
    "fig2 = plt.figure()\n",
    "ax2 = fig2.add_subplot(1, 1, 1)\n",
    "ax2.plot(df1['Close'][-240:])\n",
    "\n",
    "plt.show()"
   ]
  },
  {
   "cell_type": "markdown",
   "metadata": {},
   "source": [
    "## Additional Y (or X) axes"
   ]
  },
  {
   "cell_type": "code",
   "execution_count": 3,
   "metadata": {
    "collapsed": false
   },
   "outputs": [
    {
     "data": {
      "image/png": "[encoded data removed]",
      "text/plain": [
       "<matplotlib.figure.Figure at 0x56edd68>"
      ]
     },
     "metadata": {},
     "output_type": "display_data"
    }
   ],
   "source": [
    "df1 = pd.read_csv('../data/000300', index_col= 'Date', names=['Date', 'Open', 'Close', 'High', 'Low', 'Volume', 'Money', 'PE', 'PB'], parse_dates=True, header=None)\n",
    "\n",
    "fig = plt.figure()\n",
    "ax1 = fig.add_subplot(1, 1, 1)\n",
    "ax1.plot(df['Close'][-240:])\n",
    "ax1.set_ylabel('Close for 000015')\n",
    "ax2 = ax1.twinx()\n",
    "ax2.plot(df1['Close'][-240:], 'r')\n",
    "ax2.set_ylabel('Close for 000300')\n",
    "ax1.set_xlabel('Same xlabel= for both 000015 and 000300')\n",
    "\n",
    "plt.show()"
   ]
  },
  {
   "cell_type": "markdown",
   "metadata": {},
   "source": [
    "## Logarithmic axes"
   ]
  },
  {
   "cell_type": "code",
   "execution_count": null,
   "metadata": {
    "collapsed": false
   },
   "outputs": [],
   "source": [
    "import matplotlib as mpl\n",
    "mpl.rcParams['font.size'] = 10.\n",
    "import matplotlib.pyplot as plt\n",
    "import numpy as np\n",
    "x = np.arange(0., 20, 0.01)\n",
    "fig = plt.figure()\n",
    "ax1 = fig.add_subplot(311)\n",
    "y1 = np.exp(x/6.)\n",
    "ax1.plot(x, y1);\n",
    "ax1.grid(True)\n",
    "ax1.set_yscale('log')\n",
    "ax1.set_ylabel('log Y');\n",
    "ax2 = fig.add_subplot(312)\n",
    "y2 = np.cos(np.pi*x)\n",
    "ax2.semilogx(x, y2);\n",
    "ax2.set_xlim([0, 20]);\n",
    "ax2.grid(True)\n",
    "ax2.set_ylabel('log X');\n",
    "ax3 = fig.add_subplot(313)\n",
    "y3 = np.exp(x/4.)\n",
    "ax3.loglog(x, y3, basex=3);\n",
    "ax3.grid(True)\n",
    "ax3.set_ylabel('log X and Y');\n",
    "plt.show()"
   ]
  },
  {
   "cell_type": "markdown",
   "metadata": {},
   "source": [
    "## Share axes"
   ]
  },
  {
   "cell_type": "code",
   "execution_count": null,
   "metadata": {
    "collapsed": false
   },
   "outputs": [],
   "source": [
    "df1 = pd.read_csv('../data/000300', index_col= 'Date', names=['Date', 'Open', 'Close', 'High', 'Low', 'Volume', 'Money', 'PE', 'PB'], parse_dates=True, header=None)\n",
    "\n",
    "fig1 = plt.figure()\n",
    "ax1 = fig1.add_subplot(1, 1, 1)\n",
    "ax1.plot(df['Close'][-240:])\n",
    "fig2 = plt.figure()\n",
    "ax2 = fig2.add_subplot(1, 1, 1, sharex=ax1)\n",
    "ax2.plot(df1['Close'][-240:])\n",
    "\n",
    "plt.show()"
   ]
  },
  {
   "cell_type": "markdown",
   "metadata": {},
   "source": [
    "# Plotting dates"
   ]
  },
  {
   "cell_type": "markdown",
   "metadata": {},
   "source": [
    "## Date formatting"
   ]
  },
  {
   "cell_type": "markdown",
   "metadata": {},
   "source": [
    "## Axes formatting with axes tick locators and formatters"
   ]
  },
  {
   "cell_type": "markdown",
   "metadata": {},
   "source": [
    "## Custom formatters and locators"
   ]
  }
 ],
 "metadata": {
  "kernelspec": {
   "display_name": "Python 3",
   "language": "python",
   "name": "python3"
  },
  "language_info": {
   "codemirror_mode": {
    "name": "ipython",
    "version": 3
   },
   "file_extension": ".py",
   "mimetype": "text/x-python",
   "name": "python",
   "nbconvert_exporter": "python",
   "pygments_lexer": "ipython3",
   "version": "3.6.0"
  },
  "toc": {
   "colors": {
    "hover_highlight": "#DAA520",
    "running_highlight": "#FF0000",
    "selected_highlight": "#FFD700"
   },
   "moveMenuLeft": true,
   "nav_menu": {
    "height": "12px",
    "width": "252px"
   },
   "navigate_menu": true,
   "number_sections": true,
   "sideBar": true,
   "threshold": 4,
   "toc_cell": false,
   "toc_position": {
    "height": "793px",
    "left": "0px",
    "right": "679.688px",
    "top": "130px",
    "width": "264px"
   },
   "toc_section_display": "block",
   "toc_window_display": true
  }
 },
 "nbformat": 4,
 "nbformat_minor": 2
}
