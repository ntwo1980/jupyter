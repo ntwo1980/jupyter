{
 "cells": [
  {
   "cell_type": "code",
   "execution_count": null,
   "metadata": {
    "collapsed": true
   },
   "outputs": [],
   "source": [
    "import matplotlib.pyplot as plt\n",
    "import numpy as np"
   ]
  },
  {
   "cell_type": "markdown",
   "metadata": {
    "collapsed": true
   },
   "source": [
    "# Basic"
   ]
  },
  {
   "cell_type": "markdown",
   "metadata": {},
   "source": [
    "## Multilne plots"
   ]
  },
  {
   "cell_type": "code",
   "execution_count": null,
   "metadata": {
    "collapsed": false
   },
   "outputs": [],
   "source": [
    "x = range(1, 5)\n",
    "\n",
    "plt.plot(x, [xi * 1.5 for xi in x])\n",
    "plt.plot(x, [xi * 3 for xi in x])\n",
    "plt.plot(x, [xi / 3 for xi in x])\n",
    "\n",
    "plt.show()"
   ]
  },
  {
   "cell_type": "code",
   "execution_count": null,
   "metadata": {
    "collapsed": false
   },
   "outputs": [],
   "source": [
    "x = np.arange(1, 5)\n",
    "\n",
    "plt.plot(x, x * 1.5, \n",
    "         x, x * 3, \n",
    "         x, x / 3)\n",
    "\n",
    "plt.show()"
   ]
  },
  {
   "cell_type": "markdown",
   "metadata": {},
   "source": [
    "## Grid, axes and lables"
   ]
  },
  {
   "cell_type": "markdown",
   "metadata": {},
   "source": [
    "### Adding a grid"
   ]
  },
  {
   "cell_type": "code",
   "execution_count": null,
   "metadata": {
    "collapsed": false
   },
   "outputs": [],
   "source": [
    "x = np.arange(1, 5)\n",
    "\n",
    "plt.plot(x, x * 1.5, \n",
    "         x, x * 3, \n",
    "         x, x / 3)\n",
    "\n",
    "plt.grid(True)\n",
    "plt.show()"
   ]
  },
  {
   "cell_type": "markdown",
   "metadata": {},
   "source": [
    "### Handling axes"
   ]
  },
  {
   "cell_type": "code",
   "execution_count": null,
   "metadata": {
    "collapsed": false
   },
   "outputs": [],
   "source": [
    "x = np.arange(1, 5)\n",
    "\n",
    "plt.plot(x, x * 1.5, \n",
    "         x, x * 3, \n",
    "         x, x / 3)\n",
    "\n",
    "plt.axis([0, 5, -1, 13])  # set new axes limits\n",
    "plt.axis(xmin=0, xman=5, ymin=-1, ymax=13)\n",
    "plt.show()\n",
    "\n",
    "# get current X and Y limits\n",
    "plt.xlim()\n",
    "plt.ylim()"
   ]
  },
  {
   "cell_type": "markdown",
   "metadata": {},
   "source": [
    "### Adding labels"
   ]
  },
  {
   "cell_type": "code",
   "execution_count": null,
   "metadata": {
    "collapsed": false
   },
   "outputs": [],
   "source": [
    "x = np.arange(1, 5)\n",
    "\n",
    "plt.plot(x, x * 1.5, \n",
    "         x, x * 3, \n",
    "         x, x / 3)\n",
    "\n",
    "plt.xlabel('This is the X axis')\n",
    "plt.ylabel('This is the Y axis')\n",
    "\n",
    "plt.show()"
   ]
  },
  {
   "cell_type": "markdown",
   "metadata": {},
   "source": [
    "## Title and legends"
   ]
  },
  {
   "cell_type": "markdown",
   "metadata": {},
   "source": [
    "### Adding a title"
   ]
  },
  {
   "cell_type": "code",
   "execution_count": null,
   "metadata": {
    "collapsed": false
   },
   "outputs": [],
   "source": [
    "x = np.arange(1, 5)\n",
    "\n",
    "plt.plot(x, x * 1.5, \n",
    "         x, x * 3, \n",
    "         x, x / 3)\n",
    "\n",
    "plt.title('Simple plot')\n",
    "\n",
    "plt.show()"
   ]
  },
  {
   "cell_type": "markdown",
   "metadata": {},
   "source": [
    "### Adding a legend"
   ]
  },
  {
   "cell_type": "code",
   "execution_count": null,
   "metadata": {
    "collapsed": false
   },
   "outputs": [],
   "source": [
    "x = np.arange(1, 5)\n",
    "\n",
    "plt.plot(x, x * 1.5, \n",
    "         x, x * 3, \n",
    "         x, x / 3)\n",
    "\n",
    "plt.legend(['Normal', 'Fast', 'Slow'], loc='upper right')\n",
    "\n",
    "plt.show()"
   ]
  },
  {
   "cell_type": "markdown",
   "metadata": {},
   "source": [
    "# Styles and Types"
   ]
  },
  {
   "cell_type": "markdown",
   "metadata": {},
   "source": [
    "## Markers and line styles\n",
    "\n",
    "`plot()` supports an optional third argument that contains a format string for each pair of X, Y arguments in the form of:\n",
    "\n",
    "```python\n",
    "plt.plot(X, Y, '<format>', ...)\n",
    "```"
   ]
  },
  {
   "cell_type": "markdown",
   "metadata": {},
   "source": [
    "### Colors\n",
    "\n",
    "| Color abbreviation  | Color Name |\n",
    "| ------------------- | ---------- |\n",
    "| b                   | blue       |\n",
    "| c                   | cyan       |\n",
    "| g                   | green      |\n",
    "| k                   | black      |\n",
    "| m                   | magenta    |\n",
    "| r                   | red        |\n",
    "| w                   | white      |\n",
    "| y                   | yellow     |"
   ]
  },
  {
   "cell_type": "code",
   "execution_count": null,
   "metadata": {
    "collapsed": false
   },
   "outputs": [],
   "source": [
    "y = np.arange(1, 3)\n",
    "\n",
    "plt.plot(y, 'y')\n",
    "plt.plot(y + 1, 'm')\n",
    "plt.plot(y + 2, 'c')\n",
    "plt.show()"
   ]
  },
  {
   "cell_type": "code",
   "execution_count": null,
   "metadata": {
    "collapsed": false
   },
   "outputs": [],
   "source": [
    "y = np.arange(1, 3)\n",
    "\n",
    "plt.plot(y, 'y',  y+ 1, 'm', y + 2, 'c')\n",
    "plt.show()"
   ]
  },
  {
   "cell_type": "markdown",
   "metadata": {},
   "source": [
    "### Line styles\n",
    "\n",
    "| Style abbreviation  | Style         |\n",
    "| ------------------- | ----------    |\n",
    "| -                   | solid line    |\n",
    "| --                  | dashedline    |\n",
    "| -.                  | dash-dot line |\n",
    "| :                   | dotted line   |"
   ]
  },
  {
   "cell_type": "code",
   "execution_count": null,
   "metadata": {
    "collapsed": false
   },
   "outputs": [],
   "source": [
    "y = np.arange(1, 3)\n",
    "\n",
    "plt.plot(y, '--',  y+ 1, '-.', y + 2, ':')\n",
    "plt.show()"
   ]
  },
  {
   "cell_type": "markdown",
   "metadata": {},
   "source": [
    "### Marker styles\n",
    "\n",
    "| Markder abbreviation | Marker Style                          |\n",
    "| -------------------  | ----------                            |\n",
    "| .                    | point marker                          |\n",
    "| ,                    | pixel marker                          |\n",
    "| o                    | circle marker                         |\n",
    "| v                    | triangle down                         |\n",
    "| ^                    | Triangle up marker                    |\n",
    "| <                    | Triangle left marker                  |\n",
    "| >                    | Triangle right marker                 |\n",
    "| 1                    | Tripod down marker                    |\n",
    "| 2                    | Tripod up marker                      |\n",
    "| 3                    | Tripod left marker                    |\n",
    "| 4                    | Tripod right marker                   |\n",
    "| s                    | Square marker                         |\n",
    "| p                    | Pentagon marker                       |\n",
    "| *                    | Star marker                           |\n",
    "| h                    | Hexagon marker                        |\n",
    "| H                    | Rotated hexagon marker                |\n",
    "| +                    | Plus marker                           |\n",
    "| x                    | Cross (x) marker                      |\n",
    "| D                    | Diamond marker                        |\n",
    "| d                    | Thin diamond marker                   |\n",
    "| &#124;               | Vertical line (vline symbol) marker   |\n",
    "| _                    | Horizontal line (hline symbol) marker |"
   ]
  },
  {
   "cell_type": "code",
   "execution_count": null,
   "metadata": {
    "collapsed": false
   },
   "outputs": [],
   "source": [
    "y = np.arange(1, 3, 0.2)\n",
    "\n",
    "plt.plot(y, 'x',  y+ 1, 'o', y + 2, 's')\n",
    "plt.show()"
   ]
  },
  {
   "cell_type": "code",
   "execution_count": null,
   "metadata": {
    "collapsed": false
   },
   "outputs": [],
   "source": [
    "y = np.arange(1, 3, 0.2)\n",
    "\n",
    "plt.plot(y, 'cx--',  y+ 1, 'mo:', y + 2, 'kp-.')\n",
    "plt.show()"
   ]
  },
  {
   "cell_type": "markdown",
   "metadata": {},
   "source": [
    "### Finer control with keyword arguments\n",
    "\n",
    "| Keyword argument | Description                                                      |\n",
    "| ---------------- | ---------------------------------------------------------------- |\n",
    "| coloror c        | Sets the color of the line; accepts any Matplotlib color format. |\n",
    "| linestyle        | Sets the line style; accepts the line styles seen previously.    |\n",
    "| linewidth        | Sets the line width; accepts a float value in points.            |\n",
    "| marker           | Sets the line marker style.                                      |\n",
    "| markeredgecolor  | Sets the marker edge color; accepts any Matplotlib color format. |\n",
    "| markeredgewidth  | Sets the marker edge width; accepts float value in points.       |\n",
    "| markerfacecolor  | Sets the marker face color; accepts any Matplotlib color format. |\n",
    "| markersize       | Sets the marker size in points; accepts float values.            |"
   ]
  },
  {
   "cell_type": "code",
   "execution_count": null,
   "metadata": {
    "collapsed": false
   },
   "outputs": [],
   "source": [
    "y = np.arange(1, 3, 0.3)\n",
    "\n",
    "plt.plot(y, color='blue', linestyle='dashdot', linewidth=4, \n",
    "marker='o', markerfacecolor='red', markeredgecolor='black', \n",
    "markeredgewidth=3, markersize=12)\n",
    "\n",
    "plt.show()"
   ]
  },
  {
   "cell_type": "markdown",
   "metadata": {},
   "source": [
    "The arguments are applied to lines if plot multiple lines.\n",
    "\n",
    "```python\n",
    "plt.plot(x1, y1, x2, y2, color='green')\n",
    "```"
   ]
  },
  {
   "cell_type": "markdown",
   "metadata": {
    "collapsed": true
   },
   "source": [
    "## Handling X and Y ticks\n",
    "\n",
    "Executing with no arguments, the tick function returns the current ticks' locations and the labels corresponding to each of them:\n",
    "\n",
    "```python\n",
    "locs, labels = plt.xticks()\n",
    "```"
   ]
  },
  {
   "cell_type": "code",
   "execution_count": 10,
   "metadata": {
    "collapsed": false
   },
   "outputs": [
    {
     "data": {
      "image/png": "[encoded data removed]",
      "text/plain": [
       "<matplotlib.figure.Figure at 0x8748080>"
      ]
     },
     "metadata": {},
     "output_type": "display_data"
    }
   ],
   "source": [
    "x = [5, 3, 7, 2, 4, 1] \n",
    "plt.plot(x);\n",
    "plt.xticks(range(len(x)), ['a', 'b', 'c', 'd', 'e', 'f']); \n",
    "plt.yticks(range(1, 8, 2)); \n",
    "plt.show()"
   ]
  },
  {
   "cell_type": "markdown",
   "metadata": {},
   "source": [
    "## Plot types"
   ]
  },
  {
   "cell_type": "markdown",
   "metadata": {},
   "source": [
    "## Polar charts"
   ]
  },
  {
   "cell_type": "markdown",
   "metadata": {},
   "source": [
    "## Text inside figure, annotations and arrows"
   ]
  }
 ],
 "metadata": {
  "kernelspec": {
   "display_name": "Python 3",
   "language": "python",
   "name": "python3"
  },
  "language_info": {
   "codemirror_mode": {
    "name": "ipython",
    "version": 3
   },
   "file_extension": ".py",
   "mimetype": "text/x-python",
   "name": "python",
   "nbconvert_exporter": "python",
   "pygments_lexer": "ipython3",
   "version": "3.6.0"
  },
  "toc": {
   "colors": {
    "hover_highlight": "#DAA520",
    "running_highlight": "#FF0000",
    "selected_highlight": "#FFD700"
   },
   "moveMenuLeft": true,
   "nav_menu": {
    "height": "12px",
    "width": "252px"
   },
   "navigate_menu": true,
   "number_sections": true,
   "sideBar": true,
   "threshold": 4,
   "toc_cell": false,
   "toc_position": {
    "height": "793px",
    "left": "0px",
    "right": "679.688px",
    "top": "130px",
    "width": "264px"
   },
   "toc_section_display": "block",
   "toc_window_display": true
  }
 },
 "nbformat": 4,
 "nbformat_minor": 2
}
