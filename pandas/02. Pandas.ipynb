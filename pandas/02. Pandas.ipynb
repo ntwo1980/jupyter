{
 "cells": [
  {
   "cell_type": "code",
   "execution_count": null,
   "metadata": {
    "collapsed": true
   },
   "outputs": [],
   "source": [
    "import numpy as np\n",
    "import pandas as pd\n",
    "\n",
    "df = pd.read_csv('../data/000015', index_col= 'Date', names=['Date', 'Open', 'Close', 'High', 'Low', 'Volume', 'Money', 'PE', 'PB'], header=None)"
   ]
  },
  {
   "cell_type": "markdown",
   "metadata": {},
   "source": [
    "# Basic indexing"
   ]
  },
  {
   "cell_type": "code",
   "execution_count": null,
   "metadata": {
    "collapsed": false
   },
   "outputs": [],
   "source": [
    "df_prices = df[['Close', 'High', 'Low']]\n",
    "   \n",
    "series_close = df['Close']\n",
    "close_of_a_day = series_close['2010-01-04']\n",
    "close_of_a_day\n",
    "\n",
    "# can't get row of dataframe like:\n",
    "try:\n",
    "    df_prices['2010-01-04']\n",
    "except KeyError:\n",
    "    pass"
   ]
  },
  {
   "cell_type": "markdown",
   "metadata": {},
   "source": [
    "## Accessing attributes using dot operator"
   ]
  },
  {
   "cell_type": "code",
   "execution_count": null,
   "metadata": {
    "collapsed": false
   },
   "outputs": [],
   "source": [
    "df.Close\n",
    "\n",
    "# select by specifying column indexes\n",
    "df[[1, 2]]"
   ]
  },
  {
   "cell_type": "markdown",
   "metadata": {},
   "source": [
    "## Range slicing\n",
    "\n",
    "The synttax of the slicing operator exactly matches that of NumPy:\n",
    "\n",
    "```python\n",
    "ar[startIndex: endIndex: stepValue]\n",
    "```\n",
    "\n",
    "where the default values if not specified are as follows:\n",
    "\n",
    "* 0 for startIndex\n",
    "* arraysize-1 for endIndex\n",
    "* 1 for stepValue"
   ]
  },
  {
   "cell_type": "markdown",
   "metadata": {},
   "source": [
    "# Label, integer and mixed indexing\n",
    "\n",
    "* The `.loc` operator: Allows label-oriented indexing\n",
    "* The `.iloc` operator: Allows integer-based indexing\n",
    "* The `.ix` operator: Allows mixed label and integer-based indexing\n"
   ]
  },
  {
   "cell_type": "markdown",
   "metadata": {},
   "source": [
    "## Label-oriented indexing\n",
    "\n",
    "The `.loc` operator supports pure label-based indexing. It accepts the following as valid inputs:\n",
    "\n",
    "* A single label.\n",
    "* List or array of labels.\n",
    "* A slice object with labels.\n",
    "* A Boolean array."
   ]
  },
  {
   "cell_type": "code",
   "execution_count": null,
   "metadata": {
    "collapsed": false
   },
   "outputs": [],
   "source": [
    "df.loc['2010-01-04']\n",
    "\n",
    "# follows are same\n",
    "df.loc['2010-01-04', 'Close']\n",
    "df.loc['2010-01-04']['Close']\n",
    "df['Close']['2010-01-04']\n",
    "\n",
    "df.loc[['2010-01-04', '2010-01-05']]\n",
    "df.loc['2010-01-04': '2010-02-05']"
   ]
  },
  {
   "cell_type": "markdown",
   "metadata": {},
   "source": [
    "### Selection using a Boolean array"
   ]
  },
  {
   "cell_type": "code",
   "execution_count": null,
   "metadata": {
    "collapsed": false
   },
   "outputs": [],
   "source": [
    "df.loc[df['Close'] <= df['Close'].min(),:]"
   ]
  },
  {
   "cell_type": "markdown",
   "metadata": {},
   "source": [
    "## Integer-oriented indexing\n",
    "\n",
    "The `iloc` operator supports integer-based positional indexing. It accepts the following as inputs:\n",
    "\n",
    "* A single integer.\n",
    "* A list or array of integers.\n",
    "* A slice object with integers."
   ]
  },
  {
   "cell_type": "code",
   "execution_count": null,
   "metadata": {
    "collapsed": false,
    "scrolled": true
   },
   "outputs": [],
   "source": [
    "df.iloc[0:10,]"
   ]
  },
  {
   "cell_type": "markdown",
   "metadata": {},
   "source": [
    "## Mixed indexing with the .ix opeator\n",
    "\n",
    "The `.ix` operator behaves like a mixture of the `.loc` and `.iloc` operators, with the `.loc` behavior taking precedence. It takes the following as possible inputs:\n",
    "\n",
    "* A single label or integer\n",
    "* A list of integers or labels\n",
    "* An integer slice or label slice\n",
    "* A Boolean array"
   ]
  },
  {
   "cell_type": "code",
   "execution_count": null,
   "metadata": {
    "collapsed": false,
    "scrolled": false
   },
   "outputs": [],
   "source": [
    "df.ix['2010-01-04']\n",
    "df.ix[['2010-01-04', '2010-01-05']]\n",
    "df.ix[df.index[-3:]]\n",
    "df.ix[0]\n",
    "df.ix[[0, 2]]\n",
    "df.ix[1: 3]\n",
    "df.ix[df['Close'] > 4044.6640]"
   ]
  },
  {
   "cell_type": "markdown",
   "metadata": {},
   "source": [
    "## MultiIndexing"
   ]
  },
  {
   "cell_type": "markdown",
   "metadata": {},
   "source": [
    "## Swapping and reordering levels"
   ]
  },
  {
   "cell_type": "markdown",
   "metadata": {},
   "source": [
    "## Cross sections"
   ]
  },
  {
   "cell_type": "markdown",
   "metadata": {},
   "source": [
    "# Boolean indexing"
   ]
  },
  {
   "cell_type": "markdown",
   "metadata": {},
   "source": [
    "## isin and any all methods"
   ]
  },
  {
   "cell_type": "code",
   "execution_count": null,
   "metadata": {
    "collapsed": false,
    "scrolled": true
   },
   "outputs": [],
   "source": [
    "df.loc[df.index.isin(['2010-01-04', '2010-01-05'])]\n",
    "df.loc[(df.astype('int') == 2656).any(axis = 1)]"
   ]
  },
  {
   "cell_type": "markdown",
   "metadata": {},
   "source": [
    "## using the where() method\n",
    "\n",
    "The `where` method is used to ensure that the result of Boolean filtering is the same shape as the original data."
   ]
  },
  {
   "cell_type": "code",
   "execution_count": null,
   "metadata": {
    "collapsed": false
   },
   "outputs": [],
   "source": [
    "df[df['Close'] > 2800]\n",
    "df.where(df > 2800)"
   ]
  },
  {
   "cell_type": "markdown",
   "metadata": {},
   "source": [
    "## Operations on indexes"
   ]
  },
  {
   "cell_type": "code",
   "execution_count": null,
   "metadata": {
    "collapsed": false
   },
   "outputs": [],
   "source": [
    "df1 = df.reset_index()\n",
    "df1.set_index('Date')"
   ]
  }
 ],
 "metadata": {
  "kernelspec": {
   "display_name": "Python 3",
   "language": "python",
   "name": "python3"
  },
  "language_info": {
   "codemirror_mode": {
    "name": "ipython",
    "version": 3
   },
   "file_extension": ".py",
   "mimetype": "text/x-python",
   "name": "python",
   "nbconvert_exporter": "python",
   "pygments_lexer": "ipython3",
   "version": "3.6.0"
  },
  "toc": {
   "colors": {
    "hover_highlight": "#DAA520",
    "running_highlight": "#FF0000",
    "selected_highlight": "#FFD700"
   },
   "moveMenuLeft": true,
   "nav_menu": {
    "height": "30px",
    "width": "252px"
   },
   "navigate_menu": true,
   "number_sections": true,
   "sideBar": true,
   "threshold": 4,
   "toc_cell": false,
   "toc_section_display": "block",
   "toc_window_display": true
  }
 },
 "nbformat": 4,
 "nbformat_minor": 2
}
