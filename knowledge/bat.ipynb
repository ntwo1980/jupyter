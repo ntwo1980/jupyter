{
 "cells": [
  {
   "cell_type": "markdown",
   "metadata": {},
   "source": [
    "# Restart SNMPSim Server"
   ]
  },
  {
   "cell_type": "code",
   "execution_count": null,
   "metadata": {
    "collapsed": true
   },
   "outputs": [],
   "source": [
    "(for /f \"usebackq tokens=2 delims= \" %%f in (`tasklist /v ^| findstr snmpsimd.py`) do taskkill /pid %%f)\n",
    "timeout 5 > NUL\n",
    "cmd /k \"activate python2 & python C:/Workspace/snmpsim/scripts/snmpsimd.py --data-dir=C:/Workspace/walkfile --agent-udpv4-endpoint=192.168.111.100 --variation-module-options=involatilecache:C:/Workspace/walkfileshelves.db\"\n",
    "\n",
    "cmd /k \"activate python2 & python C:/Workspace/snmpsim/scripts/snmpsimd.py --data-dir=C:/Workspace/walkfile --agent-udpv4-endpoint=192.168.111.100 --variation-module-options=involatilecache:C:/Workspace/walkfileshelves.db\""
   ]
  }
 ],
 "metadata": {
  "kernelspec": {
   "display_name": "Python 3",
   "language": "python",
   "name": "python3"
  },
  "language_info": {
   "codemirror_mode": {
    "name": "ipython",
    "version": 3
   },
   "file_extension": ".py",
   "mimetype": "text/x-python",
   "name": "python",
   "nbconvert_exporter": "python",
   "pygments_lexer": "ipython3",
   "version": "3.6.0"
  },
  "toc": {
   "colors": {
    "hover_highlight": "#DAA520",
    "navigate_num": "#000000",
    "navigate_text": "#333333",
    "running_highlight": "#FF0000",
    "selected_highlight": "#FFD700",
    "sidebar_border": "#EEEEEE",
    "wrapper_background": "#FFFFFF"
   },
   "moveMenuLeft": true,
   "nav_menu": {
    "height": "30px",
    "width": "252px"
   },
   "navigate_menu": true,
   "number_sections": true,
   "sideBar": true,
   "threshold": 4,
   "toc_cell": false,
   "toc_section_display": "block",
   "toc_window_display": true,
   "widenNotebook": false
  }
 },
 "nbformat": 4,
 "nbformat_minor": 2
}
