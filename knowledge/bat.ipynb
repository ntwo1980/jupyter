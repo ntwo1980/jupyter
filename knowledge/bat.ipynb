{
 "cells": [
  {
   "cell_type": "markdown",
   "metadata": {},
   "source": [
    "# Restart SNMPSim Server"
   ]
  },
  {
   "cell_type": "code",
   "execution_count": null,
   "metadata": {
    "collapsed": true
   },
   "outputs": [],
   "source": [
    "(for /f \"usebackq tokens=2 delims= \" %%f in (`tasklist /v ^| findstr snmpsimd.py`) do taskkill /pid %%f)\n",
    "\n",
    "cmd /k \"activate python2 & python C:/Workspace/snmpsim/scripts/snmpsimd.py --data-dir=C:/Workspace/walkfile --agent-udpv4-endpoint=192.168.111.100\""
   ]
  }
 ],
 "metadata": {
  "kernelspec": {
   "display_name": "Python 3",
   "language": "python",
   "name": "python3"
  },
  "language_info": {
   "codemirror_mode": {
    "name": "ipython",
    "version": 3
   },
   "file_extension": ".py",
   "mimetype": "text/x-python",
   "name": "python",
   "nbconvert_exporter": "python",
   "pygments_lexer": "ipython3",
   "version": "3.6.0"
  }
 },
 "nbformat": 4,
 "nbformat_minor": 2
}
