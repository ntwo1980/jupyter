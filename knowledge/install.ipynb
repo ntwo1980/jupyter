{
 "cells": [
  {
   "cell_type": "markdown",
   "metadata": {},
   "source": [
    "# Jobs after install\n",
    "---\n",
    "\n",
    "## ntlmaps\n",
    "Download from http://pkgs.org\n",
    "dpkg -i ntlmaps\n",
    "\n",
    "Modify parameters\n",
    "\n",
    "* PARENT_PROXY: 10.97.4.18\n",
    "* PARENT_PROXY_PORT: 8080\n",
    "* NT_DOMAIN: YourDomain\n",
    "* USER: yourname\n",
    "* PASSWORD: yourpassword\n",
    "* NT_PART: 1\n",
    "* NTLM_FLAGS: 07820000\n",
    "\n",
    "## Add apt proxy\n",
    "edit **/etc/apt/apt.conf.d/proxy**\n",
    "```\n",
    "Acquire::http::Proxy \"http://127.0.0.1:5865/\";\n",
    "```\n",
    "\n",
    "## Change zsh as default shell\n",
    "\n",
    "```\n",
    "chsh -s `which zsh`\n",
    "```\n",
    "\n",
    "## Git\n",
    "\n",
    "### Create SSH Key\n",
    "\n",
    "* cd ~/.ssh` or `mkdir ~/.ssh.\n",
    "* ssh-keygen -t rsa -C \"mail@mail.com\".\n",
    "* Add content of `~/.ssh/id_rsa.pub` to git web site.\n",
    "* Test. `ssh -T git@gitcafe.com`.\n",
    "* Set user name and mail.\n",
    "```\n",
    "git config --global user.name 'ntwo1980'\n",
    "git config --global user.email 'ntwo1980@gmail.com'\n",
    "git config --global branch.autosetuprebase always\n",
    "git config --global push.default simple\n",
    "git config --global log.abbrevCommit yes\n",
    "git config --global core.abbrev 8\n",
    "git config --global color.ui auto\n",
    "git config --global --add rerere.enabled 1\n",
    "```\n",
    "* Get project.\n",
    "```\n",
    "git clone https://gitcafe.com/ntwo1980/linux.git\n",
    "git branch --set-upstream master origin/master\n",
    "```"
   ]
  }
 ],
 "metadata": {
  "kernelspec": {
   "display_name": "Python 3",
   "language": "python",
   "name": "python3"
  },
  "language_info": {
   "codemirror_mode": {
    "name": "ipython",
    "version": 3
   },
   "file_extension": ".py",
   "mimetype": "text/x-python",
   "name": "python",
   "nbconvert_exporter": "python",
   "pygments_lexer": "ipython3",
   "version": "3.6.0"
  },
  "toc": {
   "colors": {
    "hover_highlight": "#DAA520",
    "running_highlight": "#FF0000",
    "selected_highlight": "#FFD700"
   },
   "moveMenuLeft": true,
   "nav_menu": {
    "height": "12px",
    "width": "252px"
   },
   "navigate_menu": true,
   "number_sections": true,
   "sideBar": true,
   "threshold": 4,
   "toc_cell": false,
   "toc_section_display": "block",
   "toc_window_display": true
  }
 },
 "nbformat": 4,
 "nbformat_minor": 2
}
