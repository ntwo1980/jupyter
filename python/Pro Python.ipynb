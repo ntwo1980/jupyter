{
 "cells": [
  {
   "cell_type": "markdown",
   "metadata": {},
   "source": [
    "# Iterators and Generators"
   ]
  },
  {
   "cell_type": "markdown",
   "metadata": {},
   "source": [
    "## Iterators\n",
    "\n",
    "An `iterator` is nothing more than a container object what implements the iterator protocol. It's based on two method:\n",
    "\n",
    "* `__next__`, which returns the next item of container\n",
    "* `__iter__`, which returns the iterator itself\n",
    "\n",
    "Iterators can be created with a sequence using the `iter` built-in function."
   ]
  },
  {
   "cell_type": "code",
   "execution_count": null,
   "metadata": {
    "collapsed": false
   },
   "outputs": [],
   "source": [
    "i = iter('abc')\n",
    "next(i)\n",
    "next(i)\n",
    "next(i)\n",
    "next(i)"
   ]
  },
  {
   "cell_type": "code",
   "execution_count": null,
   "metadata": {
    "collapsed": false
   },
   "outputs": [],
   "source": [
    "class MyIterator(object):\n",
    "    def __init__(self, step):   \n",
    "        self.step = step\n",
    "    def __next__(self):\n",
    "        \"\"\"Returns the next element.\"\"\"\n",
    "        if self.step == 0:\n",
    "            raise StopIteration\n",
    "        self.step -= 1\n",
    "        return self.step\n",
    "    def __iter__(self):\n",
    "        \"\"\"Returns the iterator itself.\"\"\"\n",
    "        return self\n",
    "        \n",
    "for el in MyIterator(4):\n",
    "    print(el)"
   ]
  },
  {
   "cell_type": "markdown",
   "metadata": {},
   "source": [
    "## Generators"
   ]
  },
  {
   "cell_type": "code",
   "execution_count": null,
   "metadata": {
    "collapsed": false
   },
   "outputs": [],
   "source": [
    "def fibonacci():\n",
    "    a, b = 0, 1\n",
    "    while True:\n",
    "        yield b\n",
    "        a, b = b, a + b\n",
    "\n",
    "fib = fibonacci()\n",
    "\n",
    "[next(fib) for i in range(10)]"
   ]
  }
 ],
 "metadata": {
  "kernelspec": {
   "display_name": "Python 3",
   "language": "python",
   "name": "python3"
  },
  "language_info": {
   "codemirror_mode": {
    "name": "ipython",
    "version": 3
   },
   "file_extension": ".py",
   "mimetype": "text/x-python",
   "name": "python",
   "nbconvert_exporter": "python",
   "pygments_lexer": "ipython3",
   "version": "3.6.0"
  },
  "toc": {
   "colors": {
    "hover_highlight": "#DAA520",
    "running_highlight": "#FF0000",
    "selected_highlight": "#FFD700"
   },
   "moveMenuLeft": true,
   "nav_menu": {
    "height": "12px",
    "width": "252px"
   },
   "navigate_menu": true,
   "number_sections": true,
   "sideBar": true,
   "threshold": 4,
   "toc_cell": false,
   "toc_section_display": "block",
   "toc_window_display": true
  }
 },
 "nbformat": 4,
 "nbformat_minor": 2
}
