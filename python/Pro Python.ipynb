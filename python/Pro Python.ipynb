{
 "cells": [
  {
   "cell_type": "markdown",
   "metadata": {},
   "source": [
    "# Iterators and Generators"
   ]
  },
  {
   "cell_type": "markdown",
   "metadata": {},
   "source": [
    "## Iterators\n",
    "\n",
    "An `iterator` is nothing more than a container object what implements the iterator protocol. It's based on two method:\n",
    "\n",
    "* `__next__`, which returns the next item of container\n",
    "* `__iter__`, which returns the iterator itself\n",
    "\n",
    "Iterators can be created with a sequence using the `iter` built-in function."
   ]
  },
  {
   "cell_type": "code",
   "execution_count": null,
   "metadata": {
    "collapsed": false
   },
   "outputs": [],
   "source": [
    "i = iter('abc')\n",
    "next(i)\n",
    "next(i)\n",
    "next(i)\n",
    "next(i)"
   ]
  },
  {
   "cell_type": "code",
   "execution_count": null,
   "metadata": {
    "collapsed": false
   },
   "outputs": [],
   "source": [
    "class MyIterator(object):\n",
    "    def __init__(self, step):   \n",
    "        self.step = step\n",
    "    def __next__(self):\n",
    "        \"\"\"Returns the next element.\"\"\"\n",
    "        if self.step == 0:\n",
    "            raise StopIteration\n",
    "        self.step -= 1\n",
    "        return self.step\n",
    "    def __iter__(self):\n",
    "        \"\"\"Returns the iterator itself.\"\"\"\n",
    "        return self\n",
    "        \n",
    "for el in MyIterator(4):\n",
    "    print(el)"
   ]
  },
  {
   "cell_type": "markdown",
   "metadata": {},
   "source": [
    "## Generators"
   ]
  },
  {
   "cell_type": "code",
   "execution_count": null,
   "metadata": {
    "collapsed": false
   },
   "outputs": [],
   "source": [
    "def fibonacci():\n",
    "    a, b = 0, 1\n",
    "    while True:\n",
    "        yield b\n",
    "        a, b = b, a + b\n",
    "\n",
    "fib = fibonacci()\n",
    "\n",
    "[next(fib) for i in range(10)]"
   ]
  },
  {
   "cell_type": "markdown",
   "metadata": {},
   "source": [
    "`generator` can interact with the code called with the `next` method. `yield` becomes an expression, and a value can be passed along with a new method called `send`."
   ]
  },
  {
   "cell_type": "code",
   "execution_count": null,
   "metadata": {
    "collapsed": false
   },
   "outputs": [],
   "source": [
    "def psychologist():\n",
    "    print('Please tell me your problems')\n",
    "    while True:\n",
    "        answer = (yield)\n",
    "        if answer is not None:\n",
    "            if answer.endswith('?'):\n",
    "                print (\"Don't ask yourself too much questions\")\n",
    "            elif 'good' in answer:\n",
    "                print(\"A that's good, go on\")\n",
    "            elif 'bad' in answer:\n",
    "                print(\"Don't be so negative\")\n",
    "\n",
    "free = psychologist()\n",
    "next(free)\n",
    "free.send('I feel bad')\n",
    "free.send(\"Why I shouldn't ?\")\n",
    "free.send(\"ok then i should find what is good for me\")"
   ]
  },
  {
   "cell_type": "markdown",
   "metadata": {},
   "source": [
    "## Coroutines\n",
    "\n",
    "A `coroutine` is a function that can be suspended and resumed, and can have multiple entry points."
   ]
  },
  {
   "cell_type": "markdown",
   "metadata": {},
   "source": [
    "## Generator Expresstions"
   ]
  },
  {
   "cell_type": "code",
   "execution_count": null,
   "metadata": {
    "collapsed": false
   },
   "outputs": [],
   "source": [
    "iter = (x**2 for x in range(10) if x % 2 == 0)\n",
    "\n",
    "for x in iter:\n",
    "    print(x)"
   ]
  },
  {
   "cell_type": "markdown",
   "metadata": {},
   "source": [
    "## The itertools module"
   ]
  },
  {
   "cell_type": "markdown",
   "metadata": {},
   "source": [
    "### islice: the window iterator"
   ]
  },
  {
   "cell_type": "code",
   "execution_count": null,
   "metadata": {
    "collapsed": false
   },
   "outputs": [],
   "source": [
    "import itertools\n",
    "import numpy as np\n",
    "\n",
    "numbers = np.random.randint(5, size=(10, 10))\n",
    "\n",
    "for n1 in numbers:\n",
    "    for n2 in itertools.islice(n1, 4, None):\n",
    "        print(n2)"
   ]
  },
  {
   "cell_type": "markdown",
   "metadata": {},
   "source": [
    "One can use `islice` every time to extract data located in a particular position in a stream. This can be a file in a special format using records for instance, or a stream that presents data encapsulated with metadata, like a **SOAP** envelope, for example. In that case, `islice` can be seen as a window that slides over each line of data."
   ]
  },
  {
   "cell_type": "markdown",
   "metadata": {},
   "source": [
    "### tee: the back and forth iterator"
   ]
  },
  {
   "cell_type": "code",
   "execution_count": null,
   "metadata": {
    "collapsed": false
   },
   "outputs": [],
   "source": [
    "import itertools\n",
    "\n",
    "def with_head(iterable, headsize=1):\n",
    "    a, b = itertools.tee(iterable)\n",
    "    return list(itertools.islice(a, headsize)), b\n",
    "\n",
    "seq = range(1, 10)\n",
    "with_head(seq)\n",
    "with_head(seq, 4)"
   ]
  },
  {
   "cell_type": "markdown",
   "metadata": {},
   "source": [
    "### groupby: the uniq iterator"
   ]
  },
  {
   "cell_type": "markdown",
   "metadata": {},
   "source": [
    "The `groupby` function works a little like the Unix command `uniq`. It is able to group the duplicate elements from an iterator, as long as they are adjacent. A function can be given to the function for it to compare the elements. Otherwise, the identity comparison is used."
   ]
  },
  {
   "cell_type": "code",
   "execution_count": null,
   "metadata": {
    "collapsed": false
   },
   "outputs": [],
   "source": [
    "from itertools import groupby\n",
    "\n",
    "def compress(data):\n",
    "    return ((len(list(group)), name)\n",
    "           for name, group in groupby(data))\n",
    "\n",
    "def decompress(data):\n",
    "    return (car * size for size, car in data)\n",
    "\n",
    "compressed = compress('get uuuuuuuuuuuuuuuuuup')\n",
    "''.join(decompress(compressed))"
   ]
  },
  {
   "cell_type": "markdown",
   "metadata": {},
   "source": [
    "### Chaining iterables together"
   ]
  },
  {
   "cell_type": "code",
   "execution_count": null,
   "metadata": {
    "collapsed": false
   },
   "outputs": [],
   "source": [
    "import itertools\n",
    "\n",
    "list(itertools.chain(range(3), range(4), range(5)))"
   ]
  },
  {
   "cell_type": "markdown",
   "metadata": {},
   "source": [
    "## Zipping iterables together"
   ]
  },
  {
   "cell_type": "code",
   "execution_count": null,
   "metadata": {
    "collapsed": false
   },
   "outputs": [],
   "source": [
    "list(zip(range(3), reversed(range(5))))"
   ]
  },
  {
   "cell_type": "markdown",
   "metadata": {},
   "source": [
    "The `zip` function is particularly useful in creating dictionaries, because one sequence can be used to supply the keys, while another supplies the values. Using **zip()** can join these together into the proper parings, which can then be passed directly into a new **dict()**."
   ]
  },
  {
   "cell_type": "code",
   "execution_count": null,
   "metadata": {
    "collapsed": false
   },
   "outputs": [],
   "source": [
    "keys = map(chr, range(97, 102))\n",
    "values = range(1, 6)\n",
    "dict(zip(keys, values))"
   ]
  },
  {
   "cell_type": "markdown",
   "metadata": {},
   "source": [
    "# Collections"
   ]
  },
  {
   "cell_type": "markdown",
   "metadata": {},
   "source": [
    "## Sets\n",
    "\n",
    "* add\n",
    "* update\n",
    "* remove\n",
    "* discard\n",
    "* pop\n",
    "* clear\n",
    "* union\n",
    "* intersection\n",
    "* difference\n",
    "* symmetric_difference\n",
    "* issubset\n",
    "* issuperset"
   ]
  },
  {
   "cell_type": "markdown",
   "metadata": {},
   "source": [
    "## Named tuples"
   ]
  },
  {
   "cell_type": "code",
   "execution_count": null,
   "metadata": {
    "collapsed": false
   },
   "outputs": [],
   "source": [
    "from collections import namedtuple\n",
    "\n",
    "Point = namedtuple('Point', 'x y')\n",
    "point = Point(13, 25)\n",
    "(point.x, point.y)"
   ]
  },
  {
   "cell_type": "markdown",
   "metadata": {},
   "source": [
    "## Ordered dictionaries"
   ]
  },
  {
   "cell_type": "code",
   "execution_count": null,
   "metadata": {
    "collapsed": false
   },
   "outputs": [],
   "source": [
    "from collections import OrderedDict\n",
    "d = OrderedDict((value, str(value)) for value in range (10) if value > 5)\n",
    "d[10] = '10'\n",
    "\n",
    "d"
   ]
  },
  {
   "cell_type": "markdown",
   "metadata": {},
   "source": [
    "## Dictionaries and defaults"
   ]
  },
  {
   "cell_type": "code",
   "execution_count": null,
   "metadata": {
    "collapsed": true
   },
   "outputs": [],
   "source": [
    "from collections import defaultdict\n",
    "\n",
    "def count_words(text):\n",
    "    count = defaultdict(int)\n",
    "    for word in text.split(' '):\n",
    "        count[word] += 1\n",
    "    return count"
   ]
  },
  {
   "cell_type": "markdown",
   "metadata": {},
   "source": [
    "# Decorators"
   ]
  },
  {
   "cell_type": "markdown",
   "metadata": {},
   "source": [
    "## How to write a decorator\n",
    "\n",
    "A generic pattern is:"
   ]
  },
  {
   "cell_type": "code",
   "execution_count": null,
   "metadata": {
    "collapsed": false
   },
   "outputs": [],
   "source": [
    "def mydecorator(function):\n",
    "    def _mydecorator(*args, **kw):\n",
    "        # do some stuff before the real function gets called\n",
    "        res = function(*args, **kw)\n",
    "        # do some stuff after\n",
    "        return res\n",
    "    \n",
    "    return _mydecorator"
   ]
  },
  {
   "cell_type": "code",
   "execution_count": null,
   "metadata": {
    "collapsed": true
   },
   "outputs": [],
   "source": [
    "When arguments are needed for the decorator to work on, a second level of wrapping has to be used."
   ]
  },
  {
   "cell_type": "code",
   "execution_count": null,
   "metadata": {
    "collapsed": true
   },
   "outputs": [],
   "source": [
    "def mydecorator(arg1, arg2):\n",
    "    @functools.wraps(func)\n",
    "    def _mydecorator(function):\n",
    "        def __mydecorator(*args, **kw):\n",
    "            # do some stuff before the real function gets called\n",
    "            res = function(*args, **kw)\n",
    "            # do some stuff after\n",
    "            return res\n",
    "        \n",
    "        # returns the sub-function\n",
    "        return __mydecorator\n",
    "    return _mydecorator"
   ]
  },
  {
   "cell_type": "markdown",
   "metadata": {},
   "source": [
    "### functools.wraps\n",
    "\n",
    "Without @functools.wraps, the mydecorator has a few shortcomings: it does not support keyword argument, and it makes the \\_\\_name\\_\\_ and \\_\\_doc\\_\\_ of the decorated function."
   ]
  },
  {
   "cell_type": "markdown",
   "metadata": {},
   "source": [
    "## Argument checking"
   ]
  },
  {
   "cell_type": "code",
   "execution_count": null,
   "metadata": {
    "collapsed": false
   },
   "outputs": [],
   "source": [
    "rpc_info = {}\n",
    "\n",
    "def xmlrpc(in_=(), out=(type(None),)):\n",
    "    def _xmlrpc(function):\n",
    "        # registering the signature\n",
    "        func_name = function.__name__\n",
    "        rpc_info[func_name] = (in_, out)\n",
    "\n",
    "        def _check_types(elements, types):\n",
    "            \"\"\"Subfunction that checks the types.\"\"\"\n",
    "            if len(elements) != len(types):\n",
    "                raise TypeError('argument count is wrong')\n",
    "            typed = enumerate(zip(elements, types))\n",
    "            for index, couple in typed:\n",
    "                arg, of_the_right_type = couple\n",
    "                if isinstance(arg, of_the_right_type):\n",
    "                    continue\n",
    "                raise TypeError('arg #%d should be %s' % \\\n",
    "                    (index, of_the_right_type))\n",
    "\n",
    "        # wrapped function\n",
    "        def __xmlrpc(*args): # no keywords allowed\n",
    "            # checking what goes in\n",
    "            checkable_args = args[1:] # removing self\n",
    "            _check_types(checkable_args, in_)\n",
    "            # running the function\n",
    "            res = function(*args)\n",
    "\n",
    "            # checking what goes out\n",
    "            if not type(res) in (tuple, list):\n",
    "                checkable_res = (res,)\n",
    "            else:\n",
    "                checkable_res = res\n",
    "            _check_types(checkable_res, out)\n",
    "\n",
    "            # the function and the type\n",
    "            # checking succeeded\n",
    "            return res\n",
    "        return __xmlrpc\n",
    "    return _xmlrpc"
   ]
  },
  {
   "cell_type": "code",
   "execution_count": null,
   "metadata": {
    "collapsed": false
   },
   "outputs": [],
   "source": [
    "class RPCView(object):\n",
    "    @xmlrpc((int, int))   # two int -> None\n",
    "    def meth1(self, int1, int2):\n",
    "        print('received %d and %d' % (int1, int2))\n",
    "    \n",
    "    @xmlrpc((str,), (int,))   # string -> int\n",
    "    def meth2(self, phrase):\n",
    "        print('received %s' % phrase)\n",
    "\n",
    "rpc_info"
   ]
  },
  {
   "cell_type": "code",
   "execution_count": null,
   "metadata": {
    "collapsed": false
   },
   "outputs": [],
   "source": [
    "my = RPCView()\n",
    "\n",
    "my.meth1(1, 2)\n",
    "my.meth2(2)"
   ]
  },
  {
   "cell_type": "markdown",
   "metadata": {},
   "source": [
    "## Caching"
   ]
  },
  {
   "cell_type": "code",
   "execution_count": null,
   "metadata": {
    "collapsed": false
   },
   "outputs": [],
   "source": [
    "import time\n",
    "import hashlib\n",
    "import pickle\n",
    "from itertools import chain\n",
    "\n",
    "cache = {}\n",
    "def is_obsolete(entry, duration):\n",
    "    return time.time() - entry['time'] > duration\n",
    "\n",
    "def compute_key(function, args, kw):\n",
    "    key = pickle.dumps((function.__name__, args, kw))\n",
    "    return hashlib.sha1(key).hexdigest()\n",
    "\n",
    "def memoize(duration=10):\n",
    "    def _memoize(function):\n",
    "        def __memoize(*args, **kw):\n",
    "            key = compute_key(function, args, kw)\n",
    "            \n",
    "            if (key in cache and \n",
    "                not is_obsolete(cache[key], duration)):\n",
    "                print('we got a winner')\n",
    "                return cache[key]['value']\n",
    "\n",
    "            result = function(*args, **kw)\n",
    "            cache[key] = {'value': result, 'time': time.time()}\n",
    "            \n",
    "            return result\n",
    "        return __memoize\n",
    "    return _memoize"
   ]
  },
  {
   "cell_type": "code",
   "execution_count": null,
   "metadata": {
    "collapsed": false
   },
   "outputs": [],
   "source": [
    "@memoize()\n",
    "def very_very_very_complex_stuff(a, b):\n",
    "    return a + b\n",
    "\n",
    "very_very_very_complex_stuff(2, 2)\n",
    "very_very_very_complex_stuff(2, 2)\n",
    "\n",
    "cache"
   ]
  },
  {
   "cell_type": "markdown",
   "metadata": {},
   "source": [
    "### Memorization with functools.lru_cache"
   ]
  },
  {
   "cell_type": "code",
   "execution_count": null,
   "metadata": {
    "collapsed": false,
    "scrolled": true
   },
   "outputs": [],
   "source": [
    "import time\n",
    "import functools\n",
    "\n",
    "def clock(func):\n",
    "    @functools.wraps(func)\n",
    "    def clocked(*args, **kwargs):\n",
    "        t0 = time.time()\n",
    "        result = func(*args, **kwargs)\n",
    "        elapsed = time.time() - t0\n",
    "        name = func.__name__\n",
    "        arg_lst = []\n",
    "        if args:\n",
    "            arg_lst.append(', '.join(repr(arg) for arg in args))\n",
    "        if kwargs:\n",
    "            pairs = ['%s=%r' % (k, w) for k, w in sorted(kwargs.items())]\n",
    "            arg_lst.append(', '.join(pairs))\n",
    "        arg_str = ', '.join(arg_lst)\n",
    "        print('[%0.8fs] %s(%s) -> %r ' % (elapsed, name, arg_str, result))\n",
    "        return result\n",
    "    return clocked\n",
    "\n",
    "@functools.lru_cache()\n",
    "@clock\n",
    "def fibonacci(n):\n",
    "    if n < 2:\n",
    "        return n\n",
    "    return fibonacci(n-2) + fibonacci(n-1)\n",
    "\n",
    "print(fibonacci(6))"
   ]
  },
  {
   "cell_type": "markdown",
   "metadata": {},
   "source": [
    "## singledispatch\n",
    "\n",
    "Because we don't have method or function overloading in Python, we can't create variatiosn of htmlize with different signatures for each data type we want to handle differently."
   ]
  },
  {
   "cell_type": "code",
   "execution_count": null,
   "metadata": {
    "collapsed": true
   },
   "outputs": [],
   "source": [
    "from functools import singledispatch\n",
    "from collections import abc\n",
    "import numbers\n",
    "import html\n",
    "\n",
    "@singledispatch\n",
    "def htmlize(obj):\n",
    "    content = html.escape(repr(obj))\n",
    "    return '<pre>{}</pre>'.format(content)\n",
    "\n",
    "@htmlize.register(str)\n",
    "def _(text):\n",
    "    content = html.escape(text).replace('\\n', '<br>\\n')\n",
    "    return '<p>{0}</p>'.format(content)\n",
    "\n",
    "@htmlize.register(numbers.Integral)\n",
    "def _(n):\n",
    "    return '<pre>{0} (0x{0:x})</pre>'.format(n)\n",
    "\n",
    "@htmlize.register(tuple)\n",
    "@htmlize.register(abc.MutableSequence)\n",
    "def _(seq):\n",
    "    inner = '</li>\\n<li>'.join(htmlize(item) for item in seq)\n",
    "    return '<ul>\\n<li>' + inner + '</li>\\n</ul>'"
   ]
  },
  {
   "cell_type": "markdown",
   "metadata": {},
   "source": [
    "## Proxy"
   ]
  },
  {
   "cell_type": "code",
   "execution_count": null,
   "metadata": {
    "collapsed": false
   },
   "outputs": [],
   "source": [
    "class User(object):\n",
    "    def __init__(self, roles):\n",
    "        self.roles = roles\n",
    "        \n",
    "class Unauthorized(Exception):\n",
    "    pass\n",
    "\n",
    "def protect(role):\n",
    "    def _protect(function):\n",
    "        def __protect(self, *args, **kw):\n",
    "            user = self.user\n",
    "            if user is None or role not in user.roles:\n",
    "                raise Unauthorized(\"I won't tell you\")\n",
    "            return function(self, *args, **kw)\n",
    "        return __protect\n",
    "    return _protect\n",
    "\n",
    "class MySecrets(object):\n",
    "    def __init__(self, user):\n",
    "        self.user = user\n",
    "        \n",
    "    @protect('admin')\n",
    "    def waffle_recipe(self):\n",
    "        print('use tons of butter!')\n",
    "\n",
    "tarek = User(('admin', 'user'))\n",
    "bill = User(('user',))        \n",
    "        \n",
    "these_are = MySecrets(tarek)\n",
    "#user = tarek\n",
    "these_are.waffle_recipe()\n",
    "\n",
    "these_are = MySecrets(bill)\n",
    "these_are.waffle_recipe()"
   ]
  },
  {
   "cell_type": "markdown",
   "metadata": {},
   "source": [
    "## Stacked decorators"
   ]
  },
  {
   "cell_type": "code",
   "execution_count": null,
   "metadata": {
    "collapsed": true
   },
   "outputs": [],
   "source": [
    "@d1\n",
    "@d2\n",
    "def f():\n",
    "    pass\n",
    "\n",
    "f = d1(d2(f))"
   ]
  },
  {
   "cell_type": "markdown",
   "metadata": {},
   "source": [
    "## A parameterized registration decorator"
   ]
  },
  {
   "cell_type": "code",
   "execution_count": null,
   "metadata": {
    "collapsed": false
   },
   "outputs": [],
   "source": [
    "import time\n",
    "DEFAULT_FMT = '[{elapsed:0.8f}s] {name}({args}) -> {result}'\n",
    "\n",
    "def clock(fmt=DEFAULT_FMT):\n",
    "    def decorate(func):\n",
    "        def clocked(*_args):\n",
    "            t0 = time.time()\n",
    "            _result = func(*_args)\n",
    "            elapsed = time.time() - t0\n",
    "            name = func.__name__\n",
    "            args = ', '.join(repr(arg) for arg in _args)\n",
    "            result = repr(_result)\n",
    "            print(fmt.format(**locals()))\n",
    "            return _result\n",
    "        return clocked\n",
    "    return decorate\n",
    "\n",
    "@clock('{name}({args}) dt={elapsed:0.3f}s')\n",
    "def snooze(seconds):\n",
    "    time.sleep(seconds)\n",
    "    \n",
    "for i in range(3):\n",
    "    snooze(.123)"
   ]
  },
  {
   "cell_type": "markdown",
   "metadata": {},
   "source": [
    "## Context provider\n",
    "\n",
    "A context decorator makes sure that the function can run in the correct context, or run some code before and after the function. In other words, it sets and unsets a specific execution environment. For example, when a data item has to be shared among several threads, a lock has to be used to ensure that it is protected from multiple access."
   ]
  },
  {
   "cell_type": "code",
   "execution_count": null,
   "metadata": {
    "collapsed": false
   },
   "outputs": [],
   "source": [
    "from threading import RLock\n",
    "\n",
    "lock = RLock()\n",
    "def synchronized(function):\n",
    "    def _synchronized(*args, **kw):\n",
    "        lock.acquire()\n",
    "        try:\n",
    "            return function(*args, **kw)\n",
    "        finally:\n",
    "            lock.release()\n",
    "    return _synchronized\n",
    "\n",
    "@synchronized\n",
    "def thread_safe():   # make sure it locks the resource\n",
    "    pass"
   ]
  },
  {
   "cell_type": "markdown",
   "metadata": {},
   "source": [
    "# with and contextlib"
   ]
  },
  {
   "cell_type": "code",
   "execution_count": null,
   "metadata": {
    "collapsed": false
   },
   "outputs": [],
   "source": [
    "class Context(object):\n",
    "    def __enter__(self):\n",
    "        print('entering the zone')\n",
    "    def __exit__(self, exception_type, exception_value, exception_traceback):\n",
    "        print('leaving the zone')\n",
    "        if exception_type is None:\n",
    "            print('with no error')\n",
    "        else:\n",
    "            print('with an error {}'.format(exception_value))\n",
    "            \n",
    "with Context():\n",
    "    print('I am the zone')\n",
    "    \n",
    "with Context():\n",
    "    print('I am the buggy zone')\n",
    "    raise TypeError('I am the the bug')"
   ]
  },
  {
   "cell_type": "markdown",
   "metadata": {},
   "source": [
    "## The contextlib module"
   ]
  },
  {
   "cell_type": "code",
   "execution_count": null,
   "metadata": {
    "collapsed": false
   },
   "outputs": [],
   "source": [
    "from contextlib import contextmanager\n",
    "\n",
    "@contextmanager\n",
    "def context():\n",
    "    print('entering the zone')\n",
    "    try:\n",
    "        yield\n",
    "    except Exception as e:\n",
    "        print('with an error {}'.format(e))\n",
    "        raise e # we need to  re-raise here\n",
    "    else:\n",
    "        print('with no error')"
   ]
  },
  {
   "cell_type": "markdown",
   "metadata": {},
   "source": [
    "The two other helps provided by this module are:\n",
    "\n",
    "* `closing(element)`: This is a `contextmanager` decorated function that yields an element, and then calls the element's close method on exit. This is useful for classes that deal with streams, for instance.\n",
    "* `nexted(context1, context2, ...)`: This is a function that will combine contexts and make nested `with` calls with them."
   ]
  },
  {
   "cell_type": "markdown",
   "metadata": {},
   "source": [
    "## Context example"
   ]
  },
  {
   "cell_type": "code",
   "execution_count": null,
   "metadata": {
    "collapsed": false
   },
   "outputs": [],
   "source": [
    "import logging\n",
    "from contextlib import contextmanager\n",
    "\n",
    "@contextmanager\n",
    "def logged(klass, logger):\n",
    "    def _log(f):\n",
    "        def __log(*args, **kw):\n",
    "            logger(f, args, kw)\n",
    "            return f(*args, **kw)\n",
    "        return __log\n",
    "\n",
    "    for attribute in dir(klass):\n",
    "        if attribute.startswith('_'):\n",
    "            continue\n",
    "        element = getattr(klass, attribute)\n",
    "        setattr(klass, '__logged_ {}'.format(attribute), element)\n",
    "        setattr(klass, attribute, _log(element))\n",
    "\n",
    "    yield\n",
    "\n",
    "    for attribute in dir(klass):\n",
    "        if not attribute.startswith('__logged_'):\n",
    "            continue\n",
    "\n",
    "        element = getattr(klass, attribute)\n",
    "        setattr(klass, attribute[len('__logged_'):], element)\n",
    "        delattr(klass, attribute)\n",
    "\n",
    "class One(object):\n",
    "    def _private(self):\n",
    "        pass\n",
    "\n",
    "    def one(self, other):\n",
    "        self.two()\n",
    "        other.thing(self)\n",
    "        self._private()\n",
    "\n",
    "    def two(self):\n",
    "        pass\n",
    "\n",
    "class Two(object):\n",
    "    def thing(self, other):\n",
    "        other.two()\n",
    "\n",
    "calls = []\n",
    "def called(meth, args, kw):\n",
    "    calls.append(meth.__name__)\n",
    "\n",
    "with logged(One, called):\n",
    "    one = One()\n",
    "    two = Two()\n",
    "    one.one(two)\n",
    "\n",
    "calls"
   ]
  },
  {
   "cell_type": "markdown",
   "metadata": {},
   "source": [
    "# Subclassing built-in types"
   ]
  },
  {
   "cell_type": "code",
   "execution_count": null,
   "metadata": {
    "collapsed": false,
    "scrolled": true
   },
   "outputs": [],
   "source": [
    "class DistinctError(Exception):\n",
    "    pass\n",
    "\n",
    "class distinctdict(dict):\n",
    "    def __setitem__(self, key, value):\n",
    "        try:\n",
    "            existing_key = [k for (k, v) in self.items() if v == value and k != key]\n",
    "            \n",
    "            if existing_key:\n",
    "                raise DistinctError(\"This value already exists for {}\"\n",
    "                                    .format(str(existing_key[0])))\n",
    "        except ValueError:\n",
    "            pass\n",
    "        \n",
    "        super(distinctdict, self).__setitem__(key, value)\n",
    "\n",
    "my = distinctdict()\n",
    "my['key1'] = 'value'\n",
    "my['key2'] = 'value'"
   ]
  },
  {
   "cell_type": "markdown",
   "metadata": {},
   "source": [
    "# Accessing methods from superclasses"
   ]
  },
  {
   "cell_type": "code",
   "execution_count": null,
   "metadata": {
    "collapsed": false
   },
   "outputs": [],
   "source": [
    "class Mama(object):\n",
    "    def says(self):\n",
    "        print('Mama says')\n",
    "\n",
    "class Sister(Mama):\n",
    "    def says(self):\n",
    "        super(Sister, self).says()\n",
    "        print('Sister says')\n",
    "\n",
    "anita = Sister()\n",
    "anita.says()"
   ]
  },
  {
   "cell_type": "markdown",
   "metadata": {},
   "source": [
    "## Best practices\n",
    "\n",
    "* Multiple inheritance should be avoided.\n",
    "* `super` usage has to be consistent. In a class hierarchy, `super` should be used everywhere or nowhere. Mixing `super` and classic calls is a confusing practice.\n",
    "* Don't mix old-style and new-style classes. Having a code base with both results in a varying MRO behavior.\n",
    "* Class hierarchy has to be looked over when a parent class is called. To avoid any problems, every time a parent class is called, a quick glance at the involved MRP (with `__mro__`) has to be done."
   ]
  },
  {
   "cell_type": "markdown",
   "metadata": {},
   "source": [
    "# Exception"
   ]
  },
  {
   "cell_type": "markdown",
   "metadata": {},
   "source": [
    "## Exception example"
   ]
  },
  {
   "cell_type": "code",
   "execution_count": null,
   "metadata": {
    "collapsed": true
   },
   "outputs": [],
   "source": [
    "import logging\n",
    "\n",
    "def count_lines(filename):\n",
    "    \"\"\"\n",
    "    Count the number of lines in a file. If the file can't be opened,\n",
    "    it should be treated the same as if it was empty.\n",
    "    \"\"\"\n",
    "    file = None\n",
    "    try:\n",
    "        file = open(filename, 'r')\n",
    "        lines = file.readlines()\n",
    "    except TypeError as e:\n",
    "        # the filename wasn't valid for use with the filesystem.\n",
    "        logging.error(e)\n",
    "        return 0\n",
    "    except EnvironmentError as e:\n",
    "        # Something went wrong reading the file\n",
    "        logging.error(e)\n",
    "        return 0\n",
    "    except UnicodeDecodeError as e:\n",
    "        # The contents of the file were in a unknown encoding\n",
    "        logging.error(e)\n",
    "        return 0\n",
    "    else:\n",
    "        return len(lines)\n",
    "    finally:\n",
    "        if file:\n",
    "            file.close()"
   ]
  },
  {
   "cell_type": "markdown",
   "metadata": {},
   "source": [
    "# Emulating the python 3.x print function"
   ]
  },
  {
   "cell_type": "code",
   "execution_count": null,
   "metadata": {
    "collapsed": true
   },
   "outputs": [],
   "source": [
    "import sys\n",
    "\n",
    "def print3(*args, **kargs):\n",
    "    sep = kargs.get('sep', ' ')  # Keyword arg defaults\n",
    "    end = kargs.get('end', '\\n')\n",
    "    file = kargs.get('file', sys.stdout)\n",
    "    output = ''\n",
    "    first = True\n",
    "    for arg in args:\n",
    "        output += ('' if first else sep) + str(args)\n",
    "        first = False\n",
    "    flie.write(output + end)\n",
    "    "
   ]
  },
  {
   "cell_type": "markdown",
   "metadata": {},
   "source": [
    "# Importing code"
   ]
  },
  {
   "cell_type": "markdown",
   "metadata": {},
   "source": [
    "## Fallback imports"
   ]
  },
  {
   "cell_type": "code",
   "execution_count": null,
   "metadata": {
    "collapsed": true
   },
   "outputs": [],
   "source": [
    "try:\n",
    "    # Use the new library if available. Added in Python 2.5\n",
    "    from hashlib import md5\n",
    "except ImportError:\n",
    "    # Compatible functionality provided prior to Python 2.5\n",
    "    from md5 import new as md5"
   ]
  },
  {
   "cell_type": "code",
   "execution_count": null,
   "metadata": {
    "collapsed": true
   },
   "outputs": [],
   "source": [
    "try:\n",
    "    import docutils\n",
    "except ImportError:\n",
    "    docutils = None\n",
    "    \n",
    "if docutils:\n",
    "    pass"
   ]
  },
  {
   "cell_type": "markdown",
   "metadata": {},
   "source": [
    "## Importing from the Future\n",
    "\n",
    "If you try to import a feature from **__future** that already exists in the version of Python you're using, it doesn't do anything. The feature is already available, so no changes have to be made, but it also doesn't raise any exceptions."
   ]
  },
  {
   "cell_type": "markdown",
   "metadata": {},
   "source": [
    "## Relative imports\n",
    "\n",
    "Python allows you to specify a relative path to the module you'd like to import, so you can move around an entire package, if necessary, with a minimal modifications required. The preferred syntax for this is to specify part of the module's path with one or more periods, indicating how far up the path to look for the module. For example, if the **ace.shopping.cart** module needs to import from **acme.billing**, the two following import patterns are identical.\n",
    "\n",
    "```python\n",
    "from acme import billing\n",
    "from .. import billing\n",
    "```\n",
    "\n",
    "A single period allows you to import from the current package, so **ace.shopping.gallery** could be imported as  **from . import gallery**. Alternatively, if you're looking to just import something from that module, you could instead simply prefix the module path with the necessary periods, then specify the names to import as usual: **from .gallery import Image**."
   ]
  },
  {
   "cell_type": "markdown",
   "metadata": {},
   "source": [
    "## Using keyword-only arguments"
   ]
  },
  {
   "cell_type": "code",
   "execution_count": null,
   "metadata": {
    "collapsed": true
   },
   "outputs": [],
   "source": [
    "\" Use 3.x only keyword-only args\"\n",
    "import sys\n",
    "\n",
    "def print3(*args, sep='', end='\\n', file=sys.stdout):\n",
    "    output = ''\n",
    "    first = True\n",
    "    for arg in args:\n",
    "        output += ('' if first else sep) + str(args)\n",
    "        first = False\n",
    "    flie.write(output + end)"
   ]
  },
  {
   "cell_type": "code",
   "execution_count": null,
   "metadata": {
    "collapsed": true
   },
   "outputs": [],
   "source": [
    "\" Use 2.x/3.x keyword args deletion with defaults\"\n",
    "import sys\n",
    "\n",
    "def print3(*args, **kargs):\n",
    "    sep = kargs.pop('sep', ' ')\n",
    "    end = kargs.pop('end', '\\n')\n",
    "    file = kargs.pop('file', sys.stdout)\n",
    "    if kargs: raise TypeError('extra keywords: %s' % kargs)\n",
    "    output = ''\n",
    "    first = True\n",
    "    for arg in args:\n",
    "        output += ('' if first else sep) + str(args)\n",
    "        first = False\n",
    "    flie.write(output + end)"
   ]
  },
  {
   "cell_type": "markdown",
   "metadata": {},
   "source": [
    "## The __import__() function"
   ]
  },
  {
   "cell_type": "code",
   "execution_count": null,
   "metadata": {
    "collapsed": false
   },
   "outputs": [],
   "source": [
    "os = __import__('os.path')\n",
    "path = os.path"
   ]
  },
  {
   "cell_type": "code",
   "execution_count": null,
   "metadata": {
    "collapsed": false
   },
   "outputs": [],
   "source": [
    "def import_child(module_name):\n",
    "    module = __import__(module_name)\n",
    "    for layer in module_name.split('.')[1:]:\n",
    "        module = getattr(module, layer)\n",
    "    return module\n",
    "\n",
    "path = import_child('os.path')"
   ]
  },
  {
   "cell_type": "code",
   "execution_count": null,
   "metadata": {
    "collapsed": true
   },
   "outputs": [],
   "source": [
    "An alternate approach takes advantage of Python's own module caching mechanism to take the extra processing out the picture."
   ]
  },
  {
   "cell_type": "code",
   "execution_count": null,
   "metadata": {
    "collapsed": false
   },
   "outputs": [],
   "source": [
    "import sys\n",
    "\n",
    "def import_child(module_name):\n",
    "    module = __import__(module_name)\n",
    "    return sys.modules[module_name] \n",
    "\n",
    "path = import_child('os.path')"
   ]
  },
  {
   "cell_type": "markdown",
   "metadata": {},
   "source": [
    "## The importlib module"
   ]
  },
  {
   "cell_type": "code",
   "execution_count": null,
   "metadata": {
    "collapsed": false
   },
   "outputs": [],
   "source": [
    "from importlib import import_module\n",
    "\n",
    "path = import_module('os.path')"
   ]
  },
  {
   "cell_type": "markdown",
   "metadata": {},
   "source": [
    "**import_module** takes relative imports into account by also accepting a **package** attribute that defines the reference point from which the relative path should be resolved. This is easily done when calling the function, simply by passing in the always-global **__name__** variable, which holds the module path that was used to import the current module in the first place."
   ]
  },
  {
   "cell_type": "code",
   "execution_count": null,
   "metadata": {
    "collapsed": true
   },
   "outputs": [],
   "source": [
    "import_module('.utils', package=__name__)"
   ]
  },
  {
   "cell_type": "markdown",
   "metadata": {},
   "source": [
    "## Transitive module reloads"
   ]
  },
  {
   "cell_type": "code",
   "execution_count": null,
   "metadata": {
    "collapsed": false
   },
   "outputs": [],
   "source": [
    "import types\n",
    "from imp import reload\n",
    "\n",
    "def status(module):\n",
    "    print('reloading ' + module.__name__)\n",
    "\n",
    "def tryreload(module):\n",
    "    try:\n",
    "        reload(module)\n",
    "    except:\n",
    "        print('Failed: %s' % module)\n",
    "\n",
    "def transitive_reload(module, visited):\n",
    "    if not module in visited:\n",
    "        status(module)\n",
    "        tryreload(module)\n",
    "        visited[module] = True\n",
    "        for attrobj in module.__dict__.values():\n",
    "            if type(attrobj) == types.ModuleType:\n",
    "                transitive_reload(attrobj, visited)\n",
    "\n",
    "def reload_all(*args):\n",
    "    visited = {}\n",
    "    for arg in args:\n",
    "        if type(arg) == types.ModuleType:\n",
    "            transitive_reload(attrobj, visited)\n",
    "\n",
    "def tester(reloader, modname):\n",
    "    import importlib, sys\n",
    "    if len(sys.argv) > 1: modname = sys.argv[1]\n",
    "    module = importlib.import_module(modname)\n",
    "    reloader(module)\n",
    "\n",
    "if __name__ == '__main__':\n",
    "    tester(reload_all, 'reloadall')"
   ]
  },
  {
   "cell_type": "markdown",
   "metadata": {},
   "source": [
    "### Alternative implementation1"
   ]
  },
  {
   "cell_type": "code",
   "execution_count": null,
   "metadata": {
    "collapsed": false
   },
   "outputs": [],
   "source": [
    "import types\n",
    "from imp import reload\n",
    "from reloadall import status, tryreload, tester\n",
    "\n",
    "def transitive_reload(objects, visited):\n",
    "    for obj in objects:\n",
    "        if type(obj) == types.ModuleType and obj not in visited:\n",
    "            status(obj)\n",
    "            tryreload(obj)\n",
    "            visited.add(obj)\n",
    "            transitive_reload(obj.__dict__.value(), visited)\n",
    "\n",
    "def reload_all(*args):\n",
    "    transitive_reload(args, set())\n",
    "\n",
    "if __name__ == '__main__':\n",
    "    tester(reload_all, 'reloadall2')"
   ]
  },
  {
   "cell_type": "markdown",
   "metadata": {},
   "source": [
    "### Alternative implementation2"
   ]
  },
  {
   "cell_type": "code",
   "execution_count": null,
   "metadata": {
    "collapsed": false
   },
   "outputs": [],
   "source": [
    "import types\n",
    "from imp import reload\n",
    "from reloadall import status, tryreload, tester\n",
    "\n",
    "def transitive_reload(modules, visited):\n",
    "    while modules:\n",
    "        next = modules.pop()\n",
    "        status(next)\n",
    "        tryreload(next)\n",
    "        visited.add(next)\n",
    "        modules.extend(x for x in next.__dict__.values()\n",
    "            if type(x) == types.ModuleType and x not in visited)\n",
    "\n",
    "def reload_all(*modules):\n",
    "    transitive_reload(list(modules), set())\n",
    "\n",
    "if __name__ == '__main__':\n",
    "    tester(reload_all, 'reloadall3')"
   ]
  },
  {
   "cell_type": "markdown",
   "metadata": {},
   "source": [
    "# Operator overloading"
   ]
  },
  {
   "cell_type": "markdown",
   "metadata": {},
   "source": [
    "## Common operator overloading methods\n",
    "\n",
    "| Method                                                                            | Impements                    | Called for                                                                                                                              |\n",
    "| --------                                                                          | ---------------------------- | ------------------------------------                                                                                                    |\n",
    "| \\_\\_init\\_\\_                                                                      | Constructor                  | Object creation: X = Class(args)                                                                                                        |\n",
    "| \\_\\_del\\_\\_                                                                       | Destructor                   | Object reclamation of X                                                                                                                 |\n",
    "| \\_\\_add\\_\\_                                                                       | Operator +                   | X + Y, X+= Y if no \\_\\_iadd\\_\\_                                                                                                         |\n",
    "| \\_\\_or\\_\\_                                                                        | Operator &#124; (bitwise OR) | X &#124; Y, X&#124;= Y if no \\_\\_ior\\_\\_                                                                                                |\n",
    "| \\_\\_repr\\_\\_, \\_\\_str\\_\\_                                                         | Printing, conversions        | print(X), repr(X), str(X)                                                                                                               |\n",
    "| \\_\\_call\\_\\_                                                                      | Function calls               | X(\\*args, \\*\\*kargs)                                                                                                                    |\n",
    "| \\_\\_getattr\\_\\_                                                                   | Attribute fetch              | X.undefined                                                                                                                             |\n",
    "| \\_\\_setattr\\_\\_                                                                   | Attribute assignment         | X.any = value                                                                                                                           |\n",
    "| \\_\\_delattr\\_\\_                                                                   | Attribute deletion           | del X.any                                                                                                                               |\n",
    "| \\_\\_getattribute\\_\\_                                                              | Attribute fetch              | X.Any                                                                                                                                   |\n",
    "| \\_\\_getitem\\_\\_                                                                   | Indexing, slicing, iteration | X[key], X[i:j], for loops and other iterations if no  \\_\\_iter\\_\\_                                                                      |\n",
    "| \\_\\_setitem\\_\\_                                                                   | Index and slice assignment   | X[key] = value, X[i:j] = iterable                                                                                                       |\n",
    "| \\_\\_delitem\\_\\_                                                                   | Index and slice deletion     | del X[key], del X[i:j]                                                                                                                  |\n",
    "| \\_\\_len\\_\\_                                                                       | Length                       | len(X), truth test if no \\_\\_bool\\_\\_                                                                                                   |\n",
    "| \\_\\_bool\\_\\_                                                                      | Boolean tests                | bool(X), truth test (named \\_\\_nonzero\\_\\_ in 2.X)                                                                                      |\n",
    "| \\_\\_lt\\_\\_,  \\_\\_gt\\_\\_, <br> \\_\\_le\\_\\_, \\_\\_ge\\_\\_, <br> \\_\\_eq\\_\\_, \\_\\_ne\\_\\_ | Comparisons                  | X < Y, X > Y, X <= Y, X>= Y, X==Y, X != Y (or else \\_\\_cmp\\_\\_ in 2.X only)                                                             |\n",
    "| \\_\\_radd\\_\\_                                                                      | Right-side operators         | Other + X                                                                                                                               |\n",
    "| \\_\\_iadd\\_\\_                                                                      | In-place augmented operators | X += Y (or else \\_\\_add\\_\\_)                                                                                                            |\n",
    "| \\_\\_iter\\_\\_, \\_\\_next\\_\\_                                                        | Iteration contexts           | `I=iter(x),next(I);for`loops, `in` if no \\_\\_contains\\_\\_, `all` comprehensions, `map(F,X)`, others (\\_\\_next\\_\\_ is named next in 2.x) |\n",
    "| \\_\\_contains\\_\\_                                                                  | Membership test              | item in X (any iterable)                                                                                                                |\n",
    "| \\_\\_index\\_\\_                                                                     | Integer value                | hex(X),bin(X),oct(X),O[X],O[X:] (replace 2.X \\_\\_oct\\_\\_, \\_\\_hex\\_\\_)                                                                  |\n",
    "| \\_\\_enter\\_\\_, \\_\\_exit\\_\\_                                                       | Context manager              | with obj as var:                                                                                                                        |\n",
    "| \\_\\_get\\_\\_, \\_\\_set\\_\\_                                                          | Descriptor attributes        | X.attr, X.attr=value, del X.attr                                                                                                        |\n",
    "| \\_\\_new\\_\\_                                                                       | Creation                     | Object creation, before \\_\\_init\\_\\_                                                                                                        |\n"
   ]
  },
  {
   "cell_type": "markdown",
   "metadata": {},
   "source": [
    "## Indexing and slicing: __getitem__ and __setitem__"
   ]
  },
  {
   "cell_type": "code",
   "execution_count": null,
   "metadata": {
    "collapsed": false
   },
   "outputs": [],
   "source": [
    "class Indexer:\n",
    "    data = list(range(0, 100))\n",
    "    def __getitem__(self, index):\n",
    "        if isinstance(index, int):\n",
    "            print('indexing', index)\n",
    "        else:\n",
    "            print('slicing', index.start, index.stop, index.step)\n",
    "    def __setitem__(self, index, value):\n",
    "        self.data[index] = value\n",
    "            \n",
    "x = Indexer()\n",
    "x[99]\n",
    "x[1:99:2]\n",
    "x[90] = 2\n",
    "x[90]"
   ]
  },
  {
   "cell_type": "markdown",
   "metadata": {},
   "source": [
    "## Index iteration: __getitem__"
   ]
  },
  {
   "cell_type": "code",
   "execution_count": null,
   "metadata": {
    "collapsed": false
   },
   "outputs": [],
   "source": [
    "class StepperIndexer:\n",
    "    def __getitem__(self, i):\n",
    "        return self.data[i]\n",
    "    \n",
    "x = StepperIndexer()\n",
    "x.data = 'Spam'\n",
    "for item in x:\n",
    "    print(item, end=' ')"
   ]
  },
  {
   "cell_type": "markdown",
   "metadata": {},
   "source": [
    "## Iterable objects: __iter__ and __next__\n",
    "\n",
    "Although the `__getitem__` technique works, it's really just a fallback for iteration. All iteration contexts will try the `__iter__` method first, before trying `__getitem__`."
   ]
  },
  {
   "cell_type": "markdown",
   "metadata": {},
   "source": [
    "### User-Defined Iterables"
   ]
  },
  {
   "cell_type": "code",
   "execution_count": null,
   "metadata": {
    "collapsed": false
   },
   "outputs": [],
   "source": [
    "class Squares:\n",
    "    def __init__(self, start, stop):\n",
    "        self.value = start - 1\n",
    "        self.stop = stop\n",
    "    def __iter__(self):\n",
    "        return self\n",
    "    def __next__(self):\n",
    "        if self.value == self.stop:\n",
    "            raise StopIteration\n",
    "        self.value += 1\n",
    "        return self.value ** 2\n",
    "\n",
    "for i in Squares(1, 5):\n",
    "    print(i, end=' ')"
   ]
  },
  {
   "cell_type": "markdown",
   "metadata": {},
   "source": [
    "### Multiple Iterators on One Object"
   ]
  },
  {
   "cell_type": "code",
   "execution_count": null,
   "metadata": {
    "collapsed": false
   },
   "outputs": [],
   "source": [
    "class SkipObject:\n",
    "    def __init__(self, wrapped):\n",
    "        self.wrapped = wrapped\n",
    "    def __iter__(self):\n",
    "        return SkipIterator(self.wrapped)\n",
    "\n",
    "class SkipIterator:\n",
    "    def __init__(self, wrapped):\n",
    "        self.wrapped = wrapped\n",
    "        self.offset = 0\n",
    "    def __next__(self):\n",
    "        if self.offset >= len(self.wrapped):\n",
    "            raise StopIteration\n",
    "        else:\n",
    "            item = self.wrapped[self.offset]\n",
    "            self.offset += 2\n",
    "            return item\n",
    "\n",
    "alpha = 'abcdef'\n",
    "skipper = SkipObject(alpha)\n",
    "I = iter(skipper)\n",
    "print(next(I), next(I), next(I))\n",
    "\n",
    "for x in skipper:\n",
    "    for y in skipper:\n",
    "        print(x + y, end = ' ')"
   ]
  },
  {
   "cell_type": "markdown",
   "metadata": {},
   "source": [
    "### Coding alternative: __iter__ plus yield"
   ]
  },
  {
   "cell_type": "code",
   "execution_count": null,
   "metadata": {
    "collapsed": true
   },
   "outputs": [],
   "source": [
    "class Squares:\n",
    "    def __init__(self, start, stop):\n",
    "        self.start = start\n",
    "        self.stop = stop\n",
    "    def __iter__(self):\n",
    "        for value in range(self.start, self.stop + 1):\n",
    "            yield value ** 2"
   ]
  },
  {
   "cell_type": "markdown",
   "metadata": {},
   "source": [
    "## Memberships: \\_\\_contains\\_\\_, \\_\\_iter\\_\\_, and \\_\\_getitem\\_\\_"
   ]
  },
  {
   "cell_type": "markdown",
   "metadata": {},
   "source": [
    "In the iterations domain, classes can implement the `in` membership operator as an iteration, using either the `__iter__` or `__getitem__` methods. To support more specific membership, though, classes may code a `__contains__` method — when present, this method is preferred over `__iter__`, which is preferred over `__getitem__`. The `__contains__` method should define membership as applying to keys for a _mapping_ (and can use quick lookups), and as a search for _sequences_.\n"
   ]
  },
  {
   "cell_type": "code",
   "execution_count": null,
   "metadata": {
    "collapsed": true
   },
   "outputs": [],
   "source": [
    "class Iters:\n",
    "    def __init__(self, value):\n",
    "        self.data = value\n",
    "\n",
    "    def __getitem__(self, i):           # Fallback for iteration\n",
    "        return self.data[i]             # Also for index, slice\n",
    "\n",
    "    def __iter__(self):                 # Preferred for iteration\n",
    "        for x in self.data:             # Allows multiple active iterators\n",
    "            yield x                     # no __next__ to alias to next\n",
    "\n",
    "    def __contains__(self, x):          # Preferred for 'in'\n",
    "        return x in self.data"
   ]
  },
  {
   "cell_type": "markdown",
   "metadata": {},
   "source": [
    "## Attribute access: \\_\\_getattr\\_\\_ and \\_\\_setattr\\_\\_"
   ]
  },
  {
   "cell_type": "markdown",
   "metadata": {},
   "source": [
    "### Attribute reference"
   ]
  },
  {
   "cell_type": "markdown",
   "metadata": {},
   "source": [
    "The \\_\\_getattr\\_\\_ method intercepts attribute references. It's called with  attribute references. It's called with the attribute name as a string whenever you try to qualify an instance with an _undefined_ (nonexistent) attribute name. It is not called if Python can find the attribute using its inheritance tree search procedure.\n",
    "\n",
    "Because of its behavior, \\_\\_getattr\\_\\ is useful as a hook for responding to attribute requests in a generic fashion. It's commonly used to delegate calls to embedded (or wrapped) objects from a proxy controller object. This method can also be used to adapt classes to an interface, or add _accessors_ for data attributes after the fact—logic in a method that validates or computes an attribute after it's already being used with simple dot notation."
   ]
  },
  {
   "cell_type": "code",
   "execution_count": null,
   "metadata": {
    "collapsed": true
   },
   "outputs": [],
   "source": [
    "class Empty:\n",
    "    def __getattr__(self, attrname):\n",
    "        if attrname == 'age':\n",
    "            return 40\n",
    "        else\n",
    "            raise AttributeError(attrname)"
   ]
  },
  {
   "cell_type": "markdown",
   "metadata": {},
   "source": [
    "### Attribute assignment and deletion"
   ]
  },
  {
   "cell_type": "markdown",
   "metadata": {},
   "source": [
    "The \\_\\_setattr\\_\\_ intercepts **all** attribute assignments. If this method is defined or inherited, `self.attr = value` become `self.__setattr('attr', value)`. Like `__getattr__`, this allows class to catch attribute changes, and validate or transform as desired.\n",
    "\n",
    "If the method is used, avoid loops by coding instance attribute assignments as assignments to attribute dictionary.\n"
   ]
  },
  {
   "cell_type": "code",
   "execution_count": null,
   "metadata": {
    "collapsed": true
   },
   "outputs": [],
   "source": [
    "class AccessControl:\n",
    "    def __setattr__(self, attr, value):\n",
    "        if attr == 'age':\n",
    "            self.__dict__[attr] = value + 10\n",
    "        else:\n",
    "            raise AttributeError(attr + ' not allowed')"
   ]
  },
  {
   "cell_type": "markdown",
   "metadata": {},
   "source": [
    "A third attribute management method, `__delattr__`, is passed the attribute name string and invoked on all attribute deletions (i.e., `del object.attr`). Like `__setattr`, it must avoid recursive loops by routing attribute deletions with the using class through \\_dict\\_ or superclass."
   ]
  },
  {
   "cell_type": "markdown",
   "metadata": {},
   "source": [
    "### Other attribute management tools\n",
    "\n",
    "* The `__getattribute__` method intercepts all attribute fetches, not just those that are undefined, but when using it you must be more cautious than with `__getattr__` to avoid loops.\n",
    "* The `property` built-in function allows us to associate methods with fetch and set operations on a _specific_ class attribute.\n",
    "* _Descriptors_ provide a protocol for associating `__get__` and `__set__` methods of a class with accesses to a _specific_ class attribute.\n",
    "* _Slots_ attributes are declared in classes but create implicit storage in each instance."
   ]
  },
  {
   "cell_type": "markdown",
   "metadata": {},
   "source": [
    "### Emulating privacy for instance attributes"
   ]
  },
  {
   "cell_type": "code",
   "execution_count": null,
   "metadata": {
    "collapsed": true
   },
   "outputs": [],
   "source": [
    "class PrivateExc(Exception): pass\n",
    "\n",
    "class Privacy:\n",
    "    def __setattr__(self, attrname, value):\n",
    "        if attrname in self.privates:\n",
    "            raise PrivateExc(attrname, self)\n",
    "        else:\n",
    "            self.__dict__[attrname] = value\n",
    "\n",
    "class Test1(Privacy):\n",
    "    privates = ['age']\n",
    "\n",
    "\n",
    "class Testw(Privacy):\n",
    "    privates = ['name', 'pay']\n",
    "    def __init__(self):\n",
    "        self.__dict__['name'] = 'Tom'\n",
    "\n",
    "if __name__ == '__main__':\n",
    "    x = Test1()\n",
    "    y = Test2()\n",
    "    \n",
    "    x.name = 'Bob'    # Works\n",
    "    y.name = 'Sue'    # Fails\n",
    "    \n",
    "    y.age = 30    # Works\n",
    "    x.age = 40    # Fails"
   ]
  },
  {
   "cell_type": "markdown",
   "metadata": {},
   "source": [
    "## String representation: \\_\\_repr\\_\\_ and \\_\\_str\\_\\_"
   ]
  },
  {
   "cell_type": "markdown",
   "metadata": {},
   "source": [
    "### Why two display methods?\n",
    "\n",
    "* `__str__` is tried first for the `print` operation and the `str` built-in function (the internal equivalent of which `print` runs). It generally should return a  user-friendly display.\n",
    "* `__repr__` is used in all other contexts: for interactive echoes, the `repr` function, and nested appearances, as well as by `print` and `str` if no `__str__` is present. It should generally return an as-code string that could be used to re-create the object, or a detailed display for developers.\n",
    "\n",
    "`__repr__` may be best if you want a single display for all contexts. `__str__` simply overrides `__str__` for more user-friendly display context.\n"
   ]
  },
  {
   "cell_type": "markdown",
   "metadata": {},
   "source": [
    "## Right-side addition: \\_\\_radd\\_\\_"
   ]
  },
  {
   "cell_type": "markdown",
   "metadata": {},
   "source": [
    "### Reusing \\_\\_add\\_\\_ in \\_\\_radd\\_\\_"
   ]
  },
  {
   "cell_type": "code",
   "execution_count": null,
   "metadata": {
    "collapsed": true
   },
   "outputs": [],
   "source": [
    "class Commuter1:\n",
    "    def __init__(self, val):\n",
    "        self.val = val\n",
    "    def __add__(self, other):\n",
    "        return self.val + other\n",
    "    def __radd__(self, other):\n",
    "        return self.__add__(other)    # call __add__ explicitly\n",
    "    \n",
    "class Commuter2:\n",
    "    def __init__(self, val):\n",
    "        self.val = val\n",
    "    def __add__(self, other):\n",
    "        return self.val + other\n",
    "    def __radd__(self, other):\n",
    "        return self + other    # swap order and re-add\n",
    "    \n",
    "class Commuter3:\n",
    "    def __init__(self, val):\n",
    "        self.val = val\n",
    "    def __add__(self, other):\n",
    "        return self.val + other\n",
    "    __radd__ = __add__    # Alias: cut out the middleman"
   ]
  },
  {
   "cell_type": "markdown",
   "metadata": {},
   "source": [
    "### Propagating class type"
   ]
  },
  {
   "cell_type": "code",
   "execution_count": null,
   "metadata": {
    "collapsed": true
   },
   "outputs": [],
   "source": [
    "class Commuter4:    # Propagate class type in results\n",
    "    def __init__(self, val):\n",
    "        self.val = val\n",
    "    def __add__(self, other):\n",
    "        if isinstance(other, Commuter4):    # Type test to avoid object nesting\n",
    "            other = other.val\n",
    "        return Commuter4(self.val + other)\n",
    "    def __radd__(self, other):\n",
    "        return Commuter4(other, self.val)\n",
    "    def __str__(self):\n",
    "        return '<Commuter4: %s>' % self.val"
   ]
  },
  {
   "cell_type": "markdown",
   "metadata": {},
   "source": [
    "### In-Place addition"
   ]
  },
  {
   "cell_type": "code",
   "execution_count": null,
   "metadata": {
    "collapsed": true
   },
   "outputs": [],
   "source": [
    "class Number:\n",
    "    def __init__(self, val):\n",
    "        self.val = val\n",
    "    def __iadd__(self, other):    # __iadd__ explict: x += y\n",
    "        self.val += other         # Usually returns self\n",
    "        return self"
   ]
  },
  {
   "cell_type": "markdown",
   "metadata": {},
   "source": [
    "For mutable objects, this method can often specialize for quicker in-place changes:"
   ]
  },
  {
   "cell_type": "code",
   "execution_count": null,
   "metadata": {
    "collapsed": true
   },
   "outputs": [],
   "source": [
    "y = Number([1])\n",
    "y += [2]\n",
    "y += [3]\n",
    "y.val"
   ]
  },
  {
   "cell_type": "markdown",
   "metadata": {},
   "source": [
    "## Call expressions: \\_\\_call\\_\\_"
   ]
  },
  {
   "cell_type": "code",
   "execution_count": null,
   "metadata": {
    "collapsed": true
   },
   "outputs": [],
   "source": [
    "class Callback:\n",
    "    def __init__(self, color):\n",
    "        self.color = color\n",
    "    def __call__(self):\n",
    "        print(self.color)\n",
    "\n",
    "cb = Callback('blue')\n",
    "cb()"
   ]
  },
  {
   "cell_type": "markdown",
   "metadata": {},
   "source": [
    "## Comparisons: \\_\\_lt\\_\\_, \\_\\_gt\\_\\_, and others"
   ]
  },
  {
   "cell_type": "code",
   "execution_count": null,
   "metadata": {
    "collapsed": true
   },
   "outputs": [],
   "source": [
    "class C:\n",
    "    data = 'spam'\n",
    "    def __gt__(self, other)\n",
    "        return self.data > other\n",
    "    def __lt__(self, other)\n",
    "        return self.data < other"
   ]
  },
  {
   "cell_type": "markdown",
   "metadata": {},
   "source": [
    "## Boolean tests: \\_\\_bool\\_\\_ and \\_\\_len\\_\\_"
   ]
  },
  {
   "cell_type": "code",
   "execution_count": null,
   "metadata": {
    "collapsed": true
   },
   "outputs": [],
   "source": [
    "class Truth:\n",
    "    def __bool__(self): return True    # 3.x tries __bool__first\n",
    "    def __len__(self): return 0        # 2.x tries __len__first"
   ]
  },
  {
   "cell_type": "markdown",
   "metadata": {},
   "source": [
    "## Object destruction: __del__"
   ]
  },
  {
   "cell_type": "markdown",
   "metadata": {},
   "source": [
    "# Design patterns"
   ]
  },
  {
   "cell_type": "markdown",
   "metadata": {},
   "source": [
    "## Strategy pattern"
   ]
  },
  {
   "cell_type": "markdown",
   "metadata": {},
   "source": [
    "### Classic strategy"
   ]
  },
  {
   "cell_type": "code",
   "execution_count": null,
   "metadata": {
    "collapsed": false
   },
   "outputs": [],
   "source": [
    "from abc import ABC, abstractmethod\n",
    "from collections import namedtuple\n",
    "\n",
    "Customer = namedtuple('Customer', 'name fidelity')\n",
    "\n",
    "class LineItem:\n",
    "    def __init__(self, product, quantity, price):\n",
    "        self.product = product\n",
    "        self.quantity = quantity\n",
    "        self.price = price\n",
    "    def total(self):\n",
    "        return self.price * self.quantity\n",
    "    \n",
    "class Order:  # the Context\n",
    "    def __init__(self, customer, cart, promotion=None):\n",
    "        self.customer = customer\n",
    "        self.cart = list(cart)\n",
    "        self.promotion = promotion\n",
    "    def total(self):\n",
    "        if not hasattr(self, '__total'):\n",
    "            self.__total = sum(item.total() for item in self.cart)\n",
    "        return self.__total\n",
    "    def due(self):\n",
    "        if self.promotion is None:\n",
    "            discount = 0\n",
    "        else:\n",
    "            discount = self.promotion.discount(self)\n",
    "        return self.total() - discount\n",
    "    def __repr__(self):\n",
    "        fmt = '<Order total: {:.2f} due: {:.2f}>'\n",
    "        return fmt.format(self.total(), self.due())\n",
    "    \n",
    "class Promotion(ABC):  # the Strategy: an abstract base class\n",
    "    @abstractmethod\n",
    "    def discount(self, order):\n",
    "        \"\"\"Return discount as a positive dollar amount\"\"\"\n",
    "        \n",
    "class FidelityPromo(Promotion):  # first Concrete Strategy\n",
    "    \"\"\"5% discount for customers with 1000 or more fidelity points\"\"\"\n",
    "    def discount(self, order):\n",
    "        return order.total() * .05 if order.customer.fidelity >= 1000 else 0\n",
    "    \n",
    "class BulkItemPromo(Promotion):  # second Concrete Strategy\n",
    "    \"\"\"10% discount for each LineItem with 20 or more units\"\"\"\n",
    "    def discount(self, order):\n",
    "        discount = 0\n",
    "        for item in order.cart:\n",
    "            if item.quantity >= 20:\n",
    "                discount += item.total() * .1\n",
    "        return discount\n",
    "    \n",
    "class LargeOrderPromo(Promotion):  # third Concrete Strategy\n",
    "    \"\"\"7% discount for orders with 10 or more distinct items\"\"\"\n",
    "    def discount(self, order):\n",
    "        distinct_items = {item.product for item in order.cart}\n",
    "        if len(distinct_items) >= 10:\n",
    "            return order.total() * .07\n",
    "        return 0\n",
    "    \n",
    "joe = Customer('John Doe', 0)\n",
    "ann = Customer('Ann Smith', 1100)\n",
    "cart = [LineItem('banana', 4, .5),\n",
    "        LineItem('apple', 10, 1.5),\n",
    "        LineItem('watermellon', 5, 5.0)]\n",
    "\n",
    "Order(joe, cart, FidelityPromo())"
   ]
  },
  {
   "cell_type": "markdown",
   "metadata": {},
   "source": [
    "### Function-Oriented strategy"
   ]
  },
  {
   "cell_type": "code",
   "execution_count": null,
   "metadata": {
    "collapsed": false
   },
   "outputs": [],
   "source": [
    "from collections import namedtuple\n",
    "\n",
    "Customer = namedtuple('Customer', 'name fidelity')\n",
    "\n",
    "class LineItem:\n",
    "    def __init__(self, product, quantity, price):\n",
    "        self.product = product\n",
    "        self.quantity = quantity\n",
    "        self.price = price\n",
    "    def total(self):\n",
    "        return self.price * self.quantity\n",
    "\n",
    "class Order:  # the Context\n",
    "    def __init__(self, customer, cart, promotion=None):\n",
    "        self.customer = customer\n",
    "        self.cart = list(cart)\n",
    "        self.promotion = promotion\n",
    "    def total(self):\n",
    "        if not hasattr(self, '__total'):\n",
    "            self.__total = sum(item.total() for item in self.cart)\n",
    "        return self.__total\n",
    "    def due(self):\n",
    "        if self.promotion is None:\n",
    "            discount = 0\n",
    "        else:\n",
    "            discount = self.promotion(self)\n",
    "        return self.total() - discount\n",
    "    def __repr__(self):\n",
    "        fmt = '<Order total: {:.2f} due: {:.2f}>'\n",
    "        return fmt.format(self.total(), self.due())\n",
    "\n",
    "def fidelity_promo(order):\n",
    "    \"\"\"5% discount for customers with 1000 or more fidelity points\"\"\"\n",
    "    return order.total() * .05 if order.customer.fidelity >= 1000 else 0\n",
    "\n",
    "def bulk_item_promo(order):\n",
    "    \"\"\"10% discount for each LineItem with 20 or more units\"\"\"\n",
    "    discount = 0\n",
    "    for item in order.cart:\n",
    "        if item.quantity >= 20:\n",
    "            discount += item.total() * .1\n",
    "    return discount\n",
    "\n",
    "def large_order_promo(order):\n",
    "    \"\"\"7% discount for orders with 10 or more distinct items\"\"\"\n",
    "    distinct_items = {item.product for item in order.cart}\n",
    "    if len(distinct_items) >= 10:\n",
    "        return order.total() * .07\n",
    "    return 0\n",
    "\n",
    "joe = Customer('John Doe', 0)\n",
    "ann = Customer('Ann Smith', 1100)\n",
    "cart = [LineItem('banana', 4, .5),\n",
    "        LineItem('apple', 10, 1.5),\n",
    "        LineItem('watermellon', 5, 5.0)]\n",
    "Order(joe, cart, fidelity_promo)"
   ]
  },
  {
   "cell_type": "markdown",
   "metadata": {},
   "source": [
    "### Choosing the best stategy: simple approach"
   ]
  },
  {
   "cell_type": "code",
   "execution_count": null,
   "metadata": {
    "collapsed": true
   },
   "outputs": [],
   "source": [
    "promos = [fidelity_promo, bulk_item_promo, large_order_promo]\n",
    "\n",
    "def best_promo(order):\n",
    "    \"\"\"Select best discount available\n",
    "    \"\"\"\n",
    "    return max(promo(order) for promo in promos)"
   ]
  },
  {
   "cell_type": "markdown",
   "metadata": {},
   "source": [
    "### Finding strategies in a module"
   ]
  },
  {
   "cell_type": "code",
   "execution_count": null,
   "metadata": {
    "collapsed": false
   },
   "outputs": [],
   "source": [
    "promos = [globals()[name] for name in globals()\n",
    "        if name.endswith('_promo')\n",
    "        and name != 'best_promo']\n",
    "\n",
    "def best_promo(order):\n",
    "    \"\"\"Select best discount available\n",
    "    \"\"\"\n",
    "    return max(promo(order) for promo in promos)"
   ]
  },
  {
   "cell_type": "code",
   "execution_count": null,
   "metadata": {
    "collapsed": false
   },
   "outputs": [],
   "source": [
    "import inspect\n",
    "\n",
    "promos = [func for name, func in\n",
    "        inspect.getmembers(promotions, inspect.isfunction)]\n",
    "\n",
    "def best_promo(order):\n",
    "    \"\"\"Select best discount available\n",
    "    \"\"\"\n",
    "    return max(promo(order) for promo in promos)"
   ]
  },
  {
   "cell_type": "markdown",
   "metadata": {},
   "source": [
    "### Decorator-enhanced strategy pattern"
   ]
  },
  {
   "cell_type": "code",
   "execution_count": null,
   "metadata": {
    "collapsed": true
   },
   "outputs": [],
   "source": [
    "promos = []\n",
    "\n",
    "def promotion(promo_func):\n",
    "    promos.append(promo_func)\n",
    "    return promo_func\n",
    "\n",
    "@promotion\n",
    "def fidelity(order):\n",
    "    \"\"\"5% discount for customers with 1000 or more fidelity points\"\"\"\n",
    "    return order.total() * .05 if order.customer.fidelity >= 1000 else 0\n",
    "\n",
    "@promotion\n",
    "def bulk_item(order):\n",
    "    \"\"\"10% discount for each LineItem with 20 or more units\"\"\"\n",
    "    discount = 0\n",
    "    for item in order.cart:\n",
    "        if item.quantity >= 20:\n",
    "            discount += item.total() * .1\n",
    "    return discount\n",
    "@promotion\n",
    "def large_order(order):\n",
    "    \"\"\"7% discount for orders with 10 or more distinct items\"\"\"\n",
    "    distinct_items = {item.product for item in order.cart}\n",
    "    if len(distinct_items) >= 10:\n",
    "        return order.total() * .07\n",
    "    return 0\n",
    "def best_promo(order):\n",
    "    \"\"\"Select best discount available\n",
    "    \"\"\"\n",
    "    return max(promo(order) for promo in promos)"
   ]
  },
  {
   "cell_type": "markdown",
   "metadata": {},
   "source": [
    "## Command pattern"
   ]
  },
  {
   "cell_type": "code",
   "execution_count": null,
   "metadata": {
    "collapsed": false
   },
   "outputs": [],
   "source": [
    "class MacroCommand:\n",
    "    \"\"\"A command that executes a list of commands\"\"\"\n",
    "    def __init__(self, commands):\n",
    "        self.commands = list(commands)\n",
    "    def __call__(self):\n",
    "        for command in self.commands: \n",
    "            command()"
   ]
  },
  {
   "cell_type": "markdown",
   "metadata": {},
   "source": [
    "# A pythonic object"
   ]
  },
  {
   "cell_type": "code",
   "execution_count": 7,
   "metadata": {
    "collapsed": false
   },
   "outputs": [],
   "source": [
    "\"\"\"\n",
    "A two-dimensional vector class\n",
    "\n",
    "    >>> v1 = Vector2d(3, 4)\n",
    "    >>> print(v1.x, v1.y)\n",
    "    3.0 4.0\n",
    "    >>> x, y = v1\n",
    "    >>> x, y\n",
    "    (3.0, 4.0)\n",
    "    >>> v1\n",
    "    Vector2d(3.0, 4.0)\n",
    "    >>> v1_clone = eval(repr(v1))\n",
    "    >>> v1 == v1_clone\n",
    "    True\n",
    "    >>> print(v1)\n",
    "    (3.0, 4.0)\n",
    "    >>> octets = bytes(v1)\n",
    "    >>> octets\n",
    "    b'd\\\\x00\\\\x00\\\\x00\\\\x00\\\\x00\\\\x00\\\\x08@\\\\x00\\\\x00\\\\x00\\\\x00\\\\x00\\\\x00\\\\x10@'\n",
    "    >>> abs(v1)\n",
    "    5.0\n",
    "    >>> bool(v1), bool(Vector2d(0, 0))\n",
    "    (True, False)\n",
    "\n",
    "Test of ``.frombytes()`` class method:\n",
    "    >>> v1_clone = Vector2d.frombytes(bytes(v1))\n",
    "    >>> v1_clone\n",
    "    Vector2d(3.0, 4.0)\n",
    "    >>> v1 == v1_clone\n",
    "    True\n",
    "\n",
    "Tests of ``format()`` with Cartesian coordinates:\n",
    "    >>> format(v1)\n",
    "    '(3.0, 4.0)'\n",
    "    >>> format(v1, '.2f')\n",
    "    '(3.00, 4.00)'\n",
    "    >>> format(v1, '.3e')\n",
    "    '(3.000e+00, 4.000e+00)'\n",
    "\n",
    "Tests of the ``angle`` method::\n",
    "    >>> Vector2d(0, 0).angle()\n",
    "    0.0\n",
    "    >>> Vector2d(1, 0).angle()\n",
    "    0.0\n",
    "    >>> epsilon = 10**-8\n",
    "    >>> abs(Vector2d(0, 1).angle() - math.pi/2) < epsilon\n",
    "    True\n",
    "    >>> abs(Vector2d(1, 1).angle() - math.pi/4) < epsilon\n",
    "    True\n",
    "\n",
    "Tests of ``format()`` with polar coordinates:\n",
    "    >>> format(Vector2d(1, 1), 'p') # doctest:+ELLIPSIS\n",
    "    '<1.414213..., 0.785398...>'\n",
    "    >>> format(Vector2d(1, 1), '.3ep')\n",
    "    '<1.414e+00, 7.854e-01>'\n",
    "    >>> format(Vector2d(1, 1), '0.5fp')\n",
    "    '<1.41421, 0.78540>'\n",
    "\n",
    "Tests of `x` and `y` read-only properties:\n",
    "    >>> v1.x, v1.y\n",
    "    (3.0, 4.0)\n",
    "    >>> v1.x = 123\n",
    "    Traceback (most recent call last):\n",
    "    ...\n",
    "    AttributeError: can't set attribute\n",
    "\n",
    "Tests of hashing:\n",
    "    >>> v1 = Vector2d(3, 4)\n",
    "    >>> v2 = Vector2d(3.1, 4.2)\n",
    "    >>> hash(v1), hash(v2)\n",
    "    (7, 384307168202284039)\n",
    "    >>> len(set([v1, v2]))\n",
    "    2\n",
    "\"\"\"\n",
    "\n",
    "from array import array\n",
    "import math\n",
    "\n",
    "class Vector2d:\n",
    "    # Use __slots__ to store instance attributes instead of __dict__\n",
    "    # __slots__ = ('__x', '__y') \n",
    "    typecode = 'd'\n",
    "\n",
    "    def __init__(self, x, y):\n",
    "        self.__x = float(x)\n",
    "        self.__y = float(y)\n",
    "\n",
    "    @property\n",
    "    def x(self):\n",
    "        return self.__x\n",
    "\n",
    "    @property\n",
    "    def y(self):\n",
    "        return self.__y\n",
    "\n",
    "    def __iter__(self):\n",
    "        return (i for i in (self.x, self.y))\n",
    "\n",
    "    def __repr__(self):\n",
    "        class_name = type(self).__name__\n",
    "        return '{}({!r},{!r})'.format(class_name, *self)\n",
    "\n",
    "    def __str__(self):\n",
    "        return str(tuple(self))\n",
    "\n",
    "    def __bytes__(self):\n",
    "        return (bytes([ord(self.typecode)]) +\n",
    "                bytes(array(self.typecode, self)))\n",
    "\n",
    "    def __eq__(self, other):\n",
    "        return tuple(self) == tuple(other)\n",
    "\n",
    "    def __hash__(self):\n",
    "        return hash(self.x) ^ hash(self.y)\n",
    "\n",
    "    def __abs__(self):\n",
    "        return math.hypot(self.x, self.y)\n",
    "\n",
    "    def __bool__(self):\n",
    "        return bool(abs(self))\n",
    "\n",
    "    def angle(self):\n",
    "        return math.atan2(self.y, self.x)\n",
    "\n",
    "    def __format__(self, fmt_spec=''):\n",
    "        if fmt_spec.endswith('p'):\n",
    "            fmt_spec = fmt_spec[:-1]\n",
    "            coords = (abs(self), self.angle())\n",
    "            outer_fmt = '<{}, {}>'\n",
    "        else:\n",
    "            coords = self\n",
    "            outer_fmt = '({}, {})'\n",
    "        components = (format(c, fmt_spec) for c in coords)\n",
    "\n",
    "        return outer_fmt.format(*components)\n",
    "\n",
    "    def __add__(self, other):\n",
    "        x = self.x + other.x\n",
    "        y = self.y + other.y\n",
    "\n",
    "        return Vector(x, y)\n",
    "\n",
    "    def __mul__(self, scalar):\n",
    "        return Vector(self.x * scalar, self.y * scalar)\n",
    "\n",
    "    @classmethod\n",
    "    def frombytes(cls, octets):\n",
    "        typecode = chr(octets[0])\n",
    "        memv = memoryview(octets[1:]).cast(typecode)\n",
    "\n",
    "        return cls(*memv)\n",
    "    \n",
    "class ShortVector2d(Vector2d):\n",
    "    typecode = 'f'"
   ]
  },
  {
   "cell_type": "code",
   "execution_count": null,
   "metadata": {
    "collapsed": true
   },
   "outputs": [],
   "source": [
    "\"\"\"\n",
    "A multidimensional ``Vector`` class\n",
    "\n",
    "A ``Vector`` is built from an iterable of numbers::\n",
    "    >>> Vector([3.1, 4.2])\n",
    "    Vector([3.1, 4.2])\n",
    "    >>> Vector((3, 4, 5))\n",
    "    Vector([3.0, 4.0, 5.0])\n",
    "    >>> Vector(range(10))\n",
    "    Vector([0.0, 1.0, 2.0, 3.0, 4.0, ...])\n",
    "    \n",
    "Tests with two dimensions (same results as ``vector2d_v1.py``)::\n",
    "    >>> v1 = Vector([3, 4])\n",
    "    >>> x, y = v1\n",
    "    >>> x, y\n",
    "    (3.0, 4.0)\n",
    "    >>> v1\n",
    "    Vector([3.0, 4.0])\n",
    "    >>> v1_clone = eval(repr(v1))\n",
    "    >>> v1 == v1_clone\n",
    "    True\n",
    "    >>> print(v1)\n",
    "    (3.0, 4.0)\n",
    "    >>> octets = bytes(v1)\n",
    "    >>> octets\n",
    "    b'd\\\\x00\\\\x00\\\\x00\\\\x00\\\\x00\\\\x00\\\\x08@\\\\x00\\\\x00\\\\x00\\\\x00\\\\x00\\\\x00\\\\x10@'\n",
    "    >>> abs(v1)\n",
    "    5.0\n",
    "    >>> bool(v1), bool(Vector([0, 0]))\n",
    "    (True, False)\n",
    "\n",
    "Test of ``.frombytes()`` class method:\n",
    "    >>> v1_clone = Vector.frombytes(bytes(v1))\n",
    "    >>> v1_clone\n",
    "    Vector([3.0, 4.0])\n",
    "    >>> v1 == v1_clone\n",
    "    True\n",
    "\n",
    "Tests with three dimensions::\n",
    "    >>> v1 = Vector([3, 4, 5])\n",
    "    >>> x, y, z = v1\n",
    "    >>> x, y, z\n",
    "    (3.0, 4.0, 5.0)\n",
    "    >>> v1\n",
    "    Vector([3.0, 4.0, 5.0])\n",
    "    >>> v1_clone = eval(repr(v1))\n",
    "    >>> v1 == v1_clone\n",
    "    True\n",
    "    >>> print(v1)\n",
    "    (3.0, 4.0, 5.0)\n",
    "    >>> abs(v1) # doctest:+ELLIPSIS\n",
    "    7.071067811...\n",
    "    >>> bool(v1), bool(Vector([0, 0, 0]))\n",
    "    (True, False)\n",
    "\n",
    "Tests with many dimensions::\n",
    "    >>> v7 = Vector(range(7))\n",
    "    >>> v7\n",
    "    Vector([0.0, 1.0, 2.0, 3.0, 4.0, ...])\n",
    "    >>> abs(v7) # doctest:+ELLIPSIS\n",
    "    9.53939201...\n",
    "    \n",
    "Test of ``.__bytes__`` and ``.frombytes()`` methods::\n",
    "    >>> v1 = Vector([3, 4, 5])\n",
    "    >>> v1_clone = Vector.frombytes(bytes(v1))\n",
    "    >>> v1_clone\n",
    "    Vector([3.0, 4.0, 5.0])\n",
    "    >>> v1 == v1_clone\n",
    "    True\n",
    "\n",
    "Tests of sequence behavior::\n",
    "    >>> v1 = Vector([3, 4, 5])\n",
    "    >>> len(v1)\n",
    "    3\n",
    "    >>> v1[0], v1[len(v1)-1], v1[-1]\n",
    "    (3.0, 5.0, 5.0)\n",
    "    \n",
    "Test of slicing::\n",
    "    >>> v7 = Vector(range(7))\n",
    "    >>> v7[-1]\n",
    "    6.0\n",
    "    >>> v7[1:4]\n",
    "    Vector([1.0, 2.0, 3.0])\n",
    "    >>> v7[-1:]\n",
    "    Vector([6.0])\n",
    "    >>> v7[1,2]\n",
    "    Traceback (most recent call last):\n",
    "    ...\n",
    "    TypeError: Vector indices must be integers\n",
    "\n",
    "Tests of dynamic attribute access::\n",
    "    >>> v7 = Vector(range(10))\n",
    "    >>> v7.x\n",
    "    0.0\n",
    "    >>> v7.y, v7.z, v7.t\n",
    "    (1.0, 2.0, 3.0)\n",
    "    Dynamic attribute lookup failures::\n",
    "    >>> v7.k\n",
    "    Traceback (most recent call last):\n",
    "    ...\n",
    "    AttributeError: 'Vector' object has no attribute 'k'\n",
    "    >>> v3 = Vector(range(3))\n",
    "    >>> v3.t\n",
    "    Traceback (most recent call last):\n",
    "    ...\n",
    "    AttributeError: 'Vector' object has no attribute 't'\n",
    "    >>> v3.spam\n",
    "    Traceback (most recent call last):\n",
    "    ...\n",
    "    AttributeError: 'Vector' object has no attribute 'spam'\n",
    "\n",
    "Tests of hashing::\n",
    "    >>> v1 = Vector([3, 4])\n",
    "    >>> v2 = Vector([3.1, 4.2])\n",
    "    >>> v3 = Vector([3, 4, 5])\n",
    "    >>> v6 = Vector(range(6))\n",
    "    >>> hash(v1), hash(v3), hash(v6)\n",
    "    (7, 2, 1)\n",
    "    Most hash values of non-integers vary from a 32-bit to 64-bit CPython build::\n",
    "    >>> import sys\n",
    "    >>> hash(v2) == (384307168202284039 if sys.maxsize > 2**32 else 357915986)\n",
    "    True\n",
    "\n",
    "Tests of ``format()`` with Cartesian coordinates in 2D::\n",
    "    >>> v1 = Vector([3, 4])\n",
    "    >>> format(v1)\n",
    "    '(3.0, 4.0)'\n",
    "    >>> format(v1, '.2f')\n",
    "    '(3.00, 4.00)'\n",
    "    >>> format(v1, '.3e')\n",
    "    '(3.000e+00, 4.000e+00)'\n",
    "\n",
    "Tests of ``format()`` with Cartesian coordinates in 3D and 7D::\n",
    "    >>> v3 = Vector([3, 4, 5])\n",
    "    >>> format(v3)\n",
    "    '(3.0, 4.0, 5.0)'\n",
    "    >>> format(Vector(range(7)))\n",
    "    '(0.0, 1.0, 2.0, 3.0, 4.0, 5.0, 6.0)'\n",
    "\n",
    "Tests of ``format()`` with spherical coordinates in 2D, 3D and 4D::\n",
    "    >>> format(Vector([1, 1]), 'h') # doctest:+ELLIPSIS\n",
    "    '<1.414213..., 0.785398...>'\n",
    "    >>> format(Vector([1, 1]), '.3eh')\n",
    "    '<1.414e+00, 7.854e-01>'\n",
    "    >>> format(Vector([1, 1]), '0.5fh')\n",
    "    '<1.41421, 0.78540>'\n",
    "    >>> format(Vector([1, 1, 1]), 'h') # doctest:+ELLIPSIS\n",
    "    '<1.73205..., 0.95531..., 0.78539...>'\n",
    "    >>> format(Vector([2, 2, 2]), '.3eh')\n",
    "    '<3.464e+00, 9.553e-01, 7.854e-01>'\n",
    "    >>> format(Vector([0, 0, 0]), '0.5fh')\n",
    "    '<0.00000, 0.00000, 0.00000>'\n",
    "    >>> format(Vector([-1, -1, -1, -1]), 'h') # doctest:+ELLIPSIS\n",
    "    '<2.0, 2.09439..., 2.18627..., 3.92699...>'\n",
    "    >>> format(Vector([2, 2, 2, 2]), '.3eh')\n",
    "    '<4.000e+00, 1.047e+00, 9.553e-01, 7.854e-01>'\n",
    "    >>> format(Vector([0, 1, 0, 0]), '0.5fh')\n",
    "    '<1.00000, 1.57080, 0.00000, 0.00000>'\n",
    "\"\"\"\n",
    "\n",
    "from array import array\n",
    "import reprlib\n",
    "import math\n",
    "import numbers\n",
    "import functools\n",
    "import operator\n",
    "import itertools\n",
    "\n",
    "class Vector:\n",
    "    typecode = 'd'\n",
    "    \n",
    "    def __init__(self, components):\n",
    "        self._components = array(self.typecode, components)\n",
    "    \n",
    "    def __iter__(self):\n",
    "        return iter(self._components)\n",
    "\n",
    "    def __repr__(self):\n",
    "        components = reprlib.repr(self._components)\n",
    "        components = components[components.find('['):-1]\n",
    "        \n",
    "        return 'Vector({})'.format(components)\n",
    "\n",
    "    def __str__(self):\n",
    "        return str(tuple(self))\n",
    "\n",
    "    def __bytes__(self):\n",
    "        return (bytes([ord(self.typecode)]) + bytes(self._components))\n",
    "\n",
    "    def __eq__(self, other):\n",
    "        return (len(self) == len(other) \n",
    "                and all(a == b for a, b in zip(self, other)))\n",
    "\n",
    "    def __hash__(self):\n",
    "        hashes = (hash(x) for x in self)\n",
    "        \n",
    "        return functools.reduce(operator.xor, hashes, 0)\n",
    "\n",
    "    def __abs__(self):\n",
    "        return math.sqrt(sum(x * x for x in self))\n",
    "\n",
    "    def __bool__(self):\n",
    "        return bool(abs(self))\n",
    "\n",
    "    def __len__(self):\n",
    "        return len(self._components)\n",
    "\n",
    "    def __getitem__(self, index):\n",
    "        cls = type(self)\n",
    "        if isinstance(index, slice):\n",
    "            return cls(self._components[index])\n",
    "        elif isinstance(index, numbers.Integral):\n",
    "            return self._components[index]\n",
    "        else:\n",
    "            msg = '{.__name__} indices must be integers'\n",
    "            raise TypeError(msg.format(cls))\n",
    "        \n",
    "    shortcut_names = 'xyzt'\n",
    "\n",
    "    def __getattr__(self, name):\n",
    "        cls = type(self)\n",
    "        if len(name) == 1:\n",
    "            pos = cls.shortcut_names.find(name)\n",
    "            if 0 <= pos < len(self._components):\n",
    "                return self._components[pos]\n",
    "        msg = '{.__name__!r} object has no attribute {!r}'\n",
    "        raise AttributeError(msg.format(cls, name))\n",
    "\n",
    "    def angle(self, n):\n",
    "        r = math.sqrt(sum(x * x for x in self[n:]))\n",
    "        a = math.atan2(r, self[n-1])\n",
    "        if (n == len(self) - 1) and (self[-1] < 0):\n",
    "            return math.pi * 2 - a\n",
    "        else:\n",
    "            return a\n",
    "\n",
    "    def angles(self):\n",
    "        return (self.angle(n) for n in range(1, len(self)))\n",
    "\n",
    "    def __format__(self, fmt_spec=''):\n",
    "        if fmt_spec.endswith('h'):  # hyperspherical coordinates\n",
    "            fmt_spec = fmt_spec[:-1]\n",
    "            coords = itertools.chain([abs(self)], self.angles())\n",
    "            outer_fmt = '<{}>'\n",
    "        else:\n",
    "            coords = self\n",
    "            outer_fmt = '({})'\n",
    "        components = (format(c, fmt_spec) for c in coords)\n",
    "        \n",
    "        return outer_fmt.format(', '.join(components))\n",
    "    \n",
    "    @classmethod\n",
    "    def frombytes(cls, octets):\n",
    "        typecode = chr(octets[0])\n",
    "        memv = memoryview(octets[1:]).cast(typecode)\n",
    "        \n",
    "        return cls(memv)"
   ]
  }
 ],
 "metadata": {
  "kernelspec": {
   "display_name": "Python 3",
   "language": "python",
   "name": "python3"
  },
  "language_info": {
   "codemirror_mode": {
    "name": "ipython",
    "version": 3
   },
   "file_extension": ".py",
   "mimetype": "text/x-python",
   "name": "python",
   "nbconvert_exporter": "python",
   "pygments_lexer": "ipython3",
   "version": "3.6.0"
  },
  "toc": {
   "colors": {
    "hover_highlight": "#DAA520",
    "navigate_num": "#000000",
    "navigate_text": "#333333",
    "running_highlight": "#FF0000",
    "selected_highlight": "#FFD700",
    "sidebar_border": "#EEEEEE",
    "wrapper_background": "#FFFFFF"
   },
   "moveMenuLeft": true,
   "nav_menu": {
    "height": "12px",
    "width": "252px"
   },
   "navigate_menu": true,
   "number_sections": true,
   "sideBar": false,
   "threshold": 4,
   "toc_cell": false,
   "toc_position": {
    "height": "804px",
    "left": "1px",
    "right": "20px",
    "top": "160px",
    "width": "341px"
   },
   "toc_section_display": "block",
   "toc_window_display": false,
   "widenNotebook": false
  }
 },
 "nbformat": 4,
 "nbformat_minor": 2
}
