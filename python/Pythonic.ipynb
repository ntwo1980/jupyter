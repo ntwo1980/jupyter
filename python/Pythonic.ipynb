{
 "cells": [
  {
   "cell_type": "markdown",
   "metadata": {},
   "source": [
    "# Use try/except to replace if\n",
    "\n",
    "* Bad\n",
    "\n",
    "```python\n",
    "class Foo(object):\n",
    "    hello = 'world'\n",
    " foo = Foo()\n",
    " \n",
    "if hasattr(foo, 'hello')\n",
    "    foo.hello\n",
    "```\n",
    "\n",
    "* Good\n",
    "\n",
    "```python\n",
    "\n",
    "try:\n",
    "    foo.hello\n",
    "except AttributeError:\n",
    "    pass\n",
    "```\n"
   ]
  },
  {
   "cell_type": "markdown",
   "metadata": {
    "collapsed": true
   },
   "source": [
    "# List Sorting\n",
    "\n",
    "* Bad\n",
    "```python\n",
    "sorted(MILLION_RANDOM_MUMBERS)\n",
    "```\n",
    "\n",
    "* Good\n",
    "```python\n",
    "MILLION_RANDOM_MUMBERS.sort()\n",
    "```"
   ]
  },
  {
   "cell_type": "markdown",
   "metadata": {},
   "source": [
    "# Use xrange(py2) / range(py3)\n",
    "\n",
    "* Bad\n",
    "\n",
    "```python\n",
    "for i in [0, 1, 2, 3, 4, 5]:\n",
    "    print i**2\n",
    "\n",
    "for in range(6):\n",
    "    print i**2\n",
    "```\n",
    "\n",
    "* Good\n",
    "\n",
    "```python\n",
    "for in in xrange(6):\n",
    "    print i**2\n",
    "```"
   ]
  },
  {
   "cell_type": "markdown",
   "metadata": {},
   "source": [
    "# Iterate collection in reversed order\n",
    "\n",
    "```python\n",
    "for color in reversed(colors):\n",
    "    print color\n",
    "```"
   ]
  },
  {
   "cell_type": "markdown",
   "metadata": {},
   "source": [
    "# Iterate multiple collections\n",
    "\n",
    "```python\n",
    "for name, color in zip(names, colors):\n",
    "    print name, color\n",
    "```"
   ]
  },
  {
   "cell_type": "markdown",
   "metadata": {
    "collapsed": true
   },
   "source": [
    "# Iterate and sort collection\n",
    "\n",
    "```python\n",
    "colors = ['red', 'green', 'blue', 'yellow']\n",
    "\n",
    "# Forward sorted order\n",
    "for color in sorted(colors):\n",
    "    print color\n",
    "    \n",
    "# Backwards sorted order\n",
    "for color in sorted(colors, reverse=True):\n",
    "    print color\n",
    "```"
   ]
  },
  {
   "cell_type": "markdown",
   "metadata": {},
   "source": [
    "# Use iter() to call multiple function\n",
    "\n",
    "* Bad\n",
    "\n",
    "```python\n",
    "blocks = []\n",
    "while True:\n",
    "    block = f.read(32)\n",
    "    if block == '':\n",
    "        break\n",
    "    blocks.append(block)\n",
    "```\n",
    "\n",
    "* Good\n",
    "```python\n",
    "blocks = []\n",
    "for block in iter(partial(f.read, 32), ''):\n",
    "    blocks.append(block)\n",
    "```\n"
   ]
  },
  {
   "cell_type": "markdown",
   "metadata": {},
   "source": [
    "# Use for/else\n",
    "\n",
    "* Bad\n",
    "\n",
    "```python\n",
    "def find(seq, target):\n",
    "    found = False\n",
    "    for i, value in enumerate(seq):\n",
    "        if value == target:\n",
    "            found = True\n",
    "            break\n",
    "    if not found:\n",
    "        return -1\n",
    "    return i\n",
    "```\n",
    "\n",
    "* Good\n",
    "\n",
    "```python\n",
    "def find(seq, target):\n",
    "    found = False\n",
    "    for i, value in enumerate(seq):\n",
    "        if value == target:\n",
    "            break\n",
    "    else:\n",
    "        return -1\n",
    "    return i\n",
    "```"
   ]
  }
 ],
 "metadata": {
  "kernelspec": {
   "display_name": "Python 3",
   "language": "python",
   "name": "python3"
  },
  "language_info": {
   "codemirror_mode": {
    "name": "ipython",
    "version": 3
   },
   "file_extension": ".py",
   "mimetype": "text/x-python",
   "name": "python",
   "nbconvert_exporter": "python",
   "pygments_lexer": "ipython3",
   "version": "3.6.0"
  }
 },
 "nbformat": 4,
 "nbformat_minor": 2
}
